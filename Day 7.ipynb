{
 "cells": [
  {
   "cell_type": "markdown",
   "metadata": {},
   "source": [
    "# Задание №1"
   ]
  },
  {
   "cell_type": "code",
   "execution_count": 2,
   "metadata": {},
   "outputs": [
    {
     "name": "stdout",
     "output_type": "stream",
     "text": [
      "4\n",
      "5\n",
      "6\n",
      "7\n",
      "4\n"
     ]
    }
   ],
   "source": [
    "def min4(a, b, c, d):\n",
    "    print(min(min(a, b),min(c, d)))\n",
    "min4(int(input()), int(input()), int(input()), int(input()))"
   ]
  },
  {
   "cell_type": "markdown",
   "metadata": {},
   "source": [
    "# Задание №2"
   ]
  },
  {
   "cell_type": "code",
   "execution_count": 9,
   "metadata": {},
   "outputs": [
    {
     "name": "stdout",
     "output_type": "stream",
     "text": [
      "0\n",
      "0\n",
      "1\n",
      "1\n"
     ]
    },
    {
     "data": {
      "text/plain": [
       "1.4142135623730951"
      ]
     },
     "execution_count": 9,
     "metadata": {},
     "output_type": "execute_result"
    }
   ],
   "source": [
    "def distance(x1, y1, x2, y2):\n",
    "    distx = (x2 - x1) ** 2\n",
    "    disty = (y2 - y1) ** 2\n",
    "    dist = float((distx + disty) ** 0.5)\n",
    "    return dist\n",
    "distance(int(input()), int(input()), int(input()), int(input()))"
   ]
  },
  {
   "cell_type": "markdown",
   "metadata": {},
   "source": [
    "# Задание №3"
   ]
  },
  {
   "cell_type": "code",
   "execution_count": 10,
   "metadata": {},
   "outputs": [
    {
     "name": "stdout",
     "output_type": "stream",
     "text": [
      "0\n",
      "0\n",
      "1\n",
      "0\n",
      "0\n",
      "1\n",
      "3.414213562373095\n"
     ]
    }
   ],
   "source": [
    "x1, y1, x2, y2, x3, y3 = int(input()), int(input()), int(input()), int(input()), int(input()), int(input())\n",
    "P = distance(x1, y1, x2, y2) + distance(x1, y1, x3, y3) + distance(x3, y3, x2, y2)\n",
    "print(P)"
   ]
  },
  {
   "cell_type": "markdown",
   "metadata": {},
   "source": [
    "# Задание №4"
   ]
  },
  {
   "cell_type": "code",
   "execution_count": 13,
   "metadata": {},
   "outputs": [
    {
     "name": "stdout",
     "output_type": "stream",
     "text": [
      "1\n",
      "1\n",
      "YES\n"
     ]
    }
   ],
   "source": [
    "def IsPointInSquare(x, y):\n",
    "    return abs(x) - abs(y) <= 1\n",
    "x, y, = float(input()), float(input())\n",
    "print(\"YES\" if IsPointInSquare(x, y) == True else \"NO\")"
   ]
  },
  {
   "cell_type": "markdown",
   "metadata": {},
   "source": [
    "# Задание №5"
   ]
  },
  {
   "cell_type": "code",
   "execution_count": 14,
   "metadata": {},
   "outputs": [
    {
     "name": "stdout",
     "output_type": "stream",
     "text": [
      "1\n",
      "1\n",
      "NO\n"
     ]
    }
   ],
   "source": [
    "def IsPointInSquare(x, y):\n",
    "    return abs(x) - abs(y) <= 0,5\n",
    "x, y, = float(input()), float(input())\n",
    "print(\"YES\" if IsPointInSquare(x, y) == True else \"NO\")"
   ]
  },
  {
   "cell_type": "markdown",
   "metadata": {},
   "source": [
    "# Задание №6"
   ]
  },
  {
   "cell_type": "code",
   "execution_count": 17,
   "metadata": {},
   "outputs": [
    {
     "name": "stdout",
     "output_type": "stream",
     "text": [
      "0.5\n",
      "0.5\n",
      "1\n",
      "1\n",
      "0.5\n",
      "NO\n"
     ]
    }
   ],
   "source": [
    "def IsPointInCircle(x, y, xc, yc, r):\n",
    "    return (xc - x) ** 2 + (yc - y) ** 2 <= r ** 2\n",
    "x, y, xc, yc, r = float(input()), float(input()), float(input()), float(input()), float(input())\n",
    "print(\"YES\" if IsPointInCircle(x, y, xc, yc, r) == True else \"NO\")"
   ]
  },
  {
   "cell_type": "markdown",
   "metadata": {},
   "source": [
    "# Задание №7"
   ]
  },
  {
   "cell_type": "code",
   "execution_count": 30,
   "metadata": {},
   "outputs": [
    {
     "name": "stdout",
     "output_type": "stream",
     "text": [
      "0\n",
      "-5\n",
      "YES\n"
     ]
    }
   ],
   "source": [
    "def IsPointInArea(x, y):\n",
    "    return ( (-1 - x) ** 2 + (1 - y) ** 2 <= 4 and y >= -x and y <= -2 * x + 2) or ((-1 - x) ** 2 + (1 - y) ** 2 >= 4 and y <= -x and y <= -2 * x + 2)\n",
    "x, y = int(input()), int(input())\n",
    "print(\"YES\" if IsPointInArea(x, y) == True else \"NO\")"
   ]
  },
  {
   "cell_type": "markdown",
   "metadata": {},
   "source": [
    "# Задание №8"
   ]
  },
  {
   "cell_type": "code",
   "execution_count": 43,
   "metadata": {},
   "outputs": [
    {
     "name": "stdout",
     "output_type": "stream",
     "text": [
      "0\n",
      "1\n",
      "1\n"
     ]
    }
   ],
   "source": [
    "def xor(x, y):\n",
    "    return (x == True and y != True) or (x != True and y == True)\n",
    "x, y = int(input()), int(input())\n",
    "print(\"1\" if xor(x, y) == True else \"0\")"
   ]
  },
  {
   "cell_type": "markdown",
   "metadata": {},
   "source": [
    "# Задание №9"
   ]
  },
  {
   "cell_type": "code",
   "execution_count": 50,
   "metadata": {},
   "outputs": [
    {
     "name": "stdout",
     "output_type": "stream",
     "text": [
      "3\n",
      "3\n"
     ]
    }
   ],
   "source": [
    "def MinDivisor(n):\n",
    "    i = 2\n",
    "    while i < n / 2:\n",
    "        if n % i == 0:\n",
    "            return i\n",
    "        i += 1\n",
    "    return n\n",
    "n = int(input())\n",
    "print(MinDivisor(n))"
   ]
  },
  {
   "cell_type": "markdown",
   "metadata": {},
   "source": [
    "# Задание №10"
   ]
  },
  {
   "cell_type": "code",
   "execution_count": 51,
   "metadata": {},
   "outputs": [
    {
     "name": "stdout",
     "output_type": "stream",
     "text": [
      "4\n",
      "NO\n"
     ]
    }
   ],
   "source": [
    "def IsPrime(n):\n",
    "    i = 2\n",
    "    while i < n / 2:\n",
    "        if n % i == 0:\n",
    "            return True\n",
    "    return False\n",
    "n = int(input())\n",
    "print(\"YES\" if IsPrime(n) == True else \"NO\")"
   ]
  },
  {
   "cell_type": "markdown",
   "metadata": {},
   "source": [
    "# Задание №11"
   ]
  },
  {
   "cell_type": "code",
   "execution_count": 61,
   "metadata": {},
   "outputs": [
    {
     "name": "stdout",
     "output_type": "stream",
     "text": [
      "3\n",
      "3\n",
      "27\n"
     ]
    }
   ],
   "source": [
    "def power(a, n):\n",
    "    if n != 1:\n",
    "        a = a * power(a, n - 1)\n",
    "    return a\n",
    "a, n = int(input()), int(input())\n",
    "print(power(a, n))"
   ]
  },
  {
   "cell_type": "markdown",
   "metadata": {},
   "source": [
    "# Задание №12"
   ]
  },
  {
   "cell_type": "code",
   "execution_count": 62,
   "metadata": {},
   "outputs": [
    {
     "name": "stdout",
     "output_type": "stream",
     "text": [
      "2\n",
      "6\n",
      "128\n"
     ]
    }
   ],
   "source": [
    "def power(a, n):\n",
    "    x = a\n",
    "    for i in range(n):\n",
    "        a *= x\n",
    "    return a\n",
    "a, n = int(input()), int(input())\n",
    "print(power(a, n))"
   ]
  },
  {
   "cell_type": "markdown",
   "metadata": {},
   "source": [
    "# Задание №13"
   ]
  },
  {
   "cell_type": "code",
   "execution_count": 63,
   "metadata": {},
   "outputs": [
    {
     "name": "stdout",
     "output_type": "stream",
     "text": [
      "5\n",
      "6\n",
      "11\n"
     ]
    }
   ],
   "source": [
    "def sum_(a, b):\n",
    "    if b != 0:\n",
    "        return sum_(a + 1,b - 1)\n",
    "    return a\n",
    "a, b = int(input()), int(input())\n",
    "print(sum_(a, b))"
   ]
  },
  {
   "cell_type": "markdown",
   "metadata": {},
   "source": [
    "# Задание №14"
   ]
  },
  {
   "cell_type": "code",
   "execution_count": 68,
   "metadata": {},
   "outputs": [
    {
     "name": "stdout",
     "output_type": "stream",
     "text": [
      "2\n",
      "5\n",
      "32\n"
     ]
    }
   ],
   "source": [
    "def power(a, n):\n",
    "    if n != 1 and n % 2 == 0:\n",
    "        a = power(a * a, n /2)\n",
    "    elif n != 1 and n % 2 != 0:\n",
    "        a = a * power(a, n - 1)\n",
    "    return a\n",
    "a, n = int(input()), int(input())\n",
    "print(power(a, n))"
   ]
  },
  {
   "cell_type": "markdown",
   "metadata": {},
   "source": [
    "# Задание №15"
   ]
  },
  {
   "cell_type": "code",
   "execution_count": 69,
   "metadata": {},
   "outputs": [
    {
     "name": "stdout",
     "output_type": "stream",
     "text": [
      "30\n",
      "18\n",
      "6\n"
     ]
    }
   ],
   "source": [
    "def gcd(a, b):\n",
    "    if a % b != 0:\n",
    "        return gcd(b, a % b)\n",
    "    else:\n",
    "        return b\n",
    "a = int(input())\n",
    "b = int(input())\n",
    "print(gcd(a, b))"
   ]
  },
  {
   "cell_type": "markdown",
   "metadata": {},
   "source": [
    "# Задание №16"
   ]
  },
  {
   "cell_type": "code",
   "execution_count": 71,
   "metadata": {},
   "outputs": [
    {
     "name": "stdout",
     "output_type": "stream",
     "text": [
      "12\n",
      "16\n",
      "3.0 4.0\n"
     ]
    }
   ],
   "source": [
    "def ReduceFraction(n, m):\n",
    "    del_ = gcd(n, m)\n",
    "    n = n / del_\n",
    "    m = m / del_\n",
    "    return n, m\n",
    "n, m = int(input()),int(input())\n",
    "print(*ReduceFraction(n, m))"
   ]
  },
  {
   "cell_type": "markdown",
   "metadata": {},
   "source": [
    "# Задание №17"
   ]
  },
  {
   "cell_type": "code",
   "execution_count": 82,
   "metadata": {},
   "outputs": [
    {
     "name": "stdout",
     "output_type": "stream",
     "text": [
      "3\n",
      "2\n"
     ]
    }
   ],
   "source": [
    "def phib(n):\n",
    "    if n == 1:\n",
    "        return 1\n",
    "    elif n == 0:\n",
    "        return 0\n",
    "    if n > 1:\n",
    "        return phib(n - 1) + phib(n - 2)\n",
    "n = int(input())\n",
    "print(phib(n))"
   ]
  },
  {
   "cell_type": "markdown",
   "metadata": {},
   "source": [
    "# Задание №18"
   ]
  },
  {
   "cell_type": "code",
   "execution_count": 87,
   "metadata": {},
   "outputs": [
    {
     "name": "stdout",
     "output_type": "stream",
     "text": [
      "4\n",
      "2\n",
      "6\n"
     ]
    }
   ],
   "source": [
    "def C(n, k):\n",
    "    if k == 1:\n",
    "        return n\n",
    "    if k == n:\n",
    "        return 1\n",
    "    return (C(n - 1, k) + C(n - 1, k - 1))\n",
    "n, k = int(input()), int(input())\n",
    "print(C(n, k))"
   ]
  },
  {
   "cell_type": "markdown",
   "metadata": {},
   "source": [
    "# Задание №19"
   ]
  },
  {
   "cell_type": "code",
   "execution_count": 90,
   "metadata": {},
   "outputs": [
    {
     "name": "stdout",
     "output_type": "stream",
     "text": [
      "1\n",
      "7\n",
      "9\n",
      "0\n"
     ]
    },
    {
     "data": {
      "text/plain": [
       "17"
      ]
     },
     "execution_count": 90,
     "metadata": {},
     "output_type": "execute_result"
    }
   ],
   "source": [
    "def sum_():\n",
    "    digit = int(input())\n",
    "    if digit == 0:\n",
    "        return digit\n",
    "    else:\n",
    "        return digit + sum_()\n",
    "sum_()"
   ]
  },
  {
   "cell_type": "markdown",
   "metadata": {},
   "source": [
    "# Задание №20"
   ]
  },
  {
   "cell_type": "code",
   "execution_count": 96,
   "metadata": {},
   "outputs": [
    {
     "name": "stdout",
     "output_type": "stream",
     "text": [
      "1\n",
      "2\n",
      "3\n",
      "0\n",
      "0\n",
      "3\n",
      "2\n",
      "1\n"
     ]
    }
   ],
   "source": [
    "def reverse():\n",
    "    a = int(input())\n",
    "    if a == 0:\n",
    "        print(a)\n",
    "        return a\n",
    "    reverse()\n",
    "    print(a)\n",
    "reverse()"
   ]
  },
  {
   "cell_type": "markdown",
   "metadata": {},
   "source": [
    "# Задание №21"
   ]
  },
  {
   "cell_type": "code",
   "execution_count": 98,
   "metadata": {},
   "outputs": [
    {
     "name": "stdout",
     "output_type": "stream",
     "text": [
      "2\n",
      "1 1 2\n",
      "2 1 3\n",
      "1 2 3\n"
     ]
    }
   ],
   "source": [
    "def move(n, x, y):\n",
    "    if n == 1:\n",
    "        print(1, x, y)\n",
    "    else:\n",
    "        move(n-1, x, 6-x-y)\n",
    "        print(n, x, y)\n",
    "        move(n-1, 6-x-y, y)\n",
    "\n",
    "n = int(input())\n",
    "move(n, 1, 3)"
   ]
  },
  {
   "cell_type": "markdown",
   "metadata": {},
   "source": [
    "# Задание № 22"
   ]
  },
  {
   "cell_type": "code",
   "execution_count": 102,
   "metadata": {},
   "outputs": [
    {
     "name": "stdout",
     "output_type": "stream",
     "text": [
      "4\n",
      "2\n"
     ]
    }
   ],
   "source": [
    "def lang(n):\n",
    "    if n > 0:\n",
    "        s = int(n ** 0.5)\n",
    "        n = n - s ** 2\n",
    "        print(s,end = ' ')\n",
    "        return lang(n)\n",
    "n = int(input())\n",
    "lang(n)"
   ]
  },
  {
   "cell_type": "markdown",
   "metadata": {},
   "source": [
    "# Задание №23"
   ]
  },
  {
   "cell_type": "code",
   "execution_count": 115,
   "metadata": {},
   "outputs": [
    {
     "name": "stdout",
     "output_type": "stream",
     "text": [
      "9\n",
      "8 1\n"
     ]
    }
   ],
   "source": [
    "def lang(n, nr, lst):\n",
    "    if nr > 7:\n",
    "        return 0\n",
    "    if n > 0:\n",
    "        s = int(n ** (1/3))\n",
    "        n = n - s ** 3\n",
    "        lst.append(s ** 3)\n",
    "        return lang(n, nr + 1, lst)\n",
    "n = int(input())\n",
    "lst = []\n",
    "lang(n, 0, lst)\n",
    "print(*lst)"
   ]
  },
  {
   "cell_type": "markdown",
   "metadata": {},
   "source": [
    "# Задание №24"
   ]
  },
  {
   "cell_type": "code",
   "execution_count": 117,
   "metadata": {},
   "outputs": [
    {
     "name": "stdout",
     "output_type": "stream",
     "text": [
      "1\n",
      "2\n",
      "3\n",
      "4\n",
      "5\n",
      "6\n",
      "7\n",
      "8\n",
      "9\n",
      "0\n",
      "9\n",
      "4\n",
      "1\n"
     ]
    }
   ],
   "source": [
    "def squa():\n",
    "    a = int(input())\n",
    "    if a == 0:\n",
    "        return a\n",
    "    squa()\n",
    "    if a ** 0.5 == int(a ** 0.5):\n",
    "        print(a)\n",
    "squa()"
   ]
  },
  {
   "cell_type": "code",
   "execution_count": null,
   "metadata": {},
   "outputs": [],
   "source": []
  }
 ],
 "metadata": {
  "kernelspec": {
   "display_name": "Python 3",
   "language": "python",
   "name": "python3"
  },
  "language_info": {
   "codemirror_mode": {
    "name": "ipython",
    "version": 3
   },
   "file_extension": ".py",
   "mimetype": "text/x-python",
   "name": "python",
   "nbconvert_exporter": "python",
   "pygments_lexer": "ipython3",
   "version": "3.7.6"
  }
 },
 "nbformat": 4,
 "nbformat_minor": 4
}
