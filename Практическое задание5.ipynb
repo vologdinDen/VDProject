{
 "cells": [
  {
   "cell_type": "markdown",
   "metadata": {},
   "source": [
    "# Задание №1"
   ]
  },
  {
   "cell_type": "code",
   "execution_count": 5,
   "metadata": {},
   "outputs": [
    {
     "name": "stdout",
     "output_type": "stream",
     "text": [
      "50\n",
      "1 4 9 16 25 36 49\n"
     ]
    }
   ],
   "source": [
    "N = int(input())\n",
    "i = 1\n",
    "out = []\n",
    "while i ** 2 < N:\n",
    "    out.append(i ** 2)\n",
    "    i += 1\n",
    "print(*out)"
   ]
  },
  {
   "cell_type": "markdown",
   "metadata": {},
   "source": [
    "# Задание №2"
   ]
  },
  {
   "cell_type": "code",
   "execution_count": 7,
   "metadata": {},
   "outputs": [
    {
     "name": "stdout",
     "output_type": "stream",
     "text": [
      "15\n",
      "3\n"
     ]
    }
   ],
   "source": [
    "N = int(input())\n",
    "i = 2\n",
    "while N % i != 0:\n",
    "    i += 1\n",
    "print(i)"
   ]
  },
  {
   "cell_type": "markdown",
   "metadata": {},
   "source": [
    "# Задание №3"
   ]
  },
  {
   "cell_type": "code",
   "execution_count": 8,
   "metadata": {},
   "outputs": [
    {
     "name": "stdout",
     "output_type": "stream",
     "text": [
      "50\n",
      "1 2 4 8 16 32\n"
     ]
    }
   ],
   "source": [
    "N = int(input())\n",
    "i = 1\n",
    "out = []\n",
    "while i < N:\n",
    "    out.append(i)\n",
    "    i = i * 2\n",
    "print(*out)"
   ]
  },
  {
   "cell_type": "markdown",
   "metadata": {},
   "source": [
    "# Задание №4"
   ]
  },
  {
   "cell_type": "code",
   "execution_count": 13,
   "metadata": {},
   "outputs": [
    {
     "name": "stdout",
     "output_type": "stream",
     "text": [
      "32\n",
      "YES\n"
     ]
    }
   ],
   "source": [
    "N = int(input())\n",
    "i = 1\n",
    "yes = False\n",
    "while i <= N:\n",
    "    if i == N:\n",
    "        yes = True\n",
    "    i = i * 2\n",
    "print(\"YES\" if yes else \"NO\")"
   ]
  },
  {
   "cell_type": "markdown",
   "metadata": {},
   "source": [
    "# Задание №5"
   ]
  },
  {
   "cell_type": "code",
   "execution_count": 15,
   "metadata": {},
   "outputs": [
    {
     "name": "stdout",
     "output_type": "stream",
     "text": [
      "30\n",
      "5\n"
     ]
    }
   ],
   "source": [
    "N = int(input())\n",
    "i = 1\n",
    "counter = 0\n",
    "yes = False\n",
    "while i <= N:\n",
    "    i = i * 2\n",
    "    counter += 1\n",
    "print(counter)"
   ]
  },
  {
   "cell_type": "markdown",
   "metadata": {},
   "source": [
    "# Задание №6"
   ]
  },
  {
   "cell_type": "code",
   "execution_count": 17,
   "metadata": {},
   "outputs": [
    {
     "name": "stdout",
     "output_type": "stream",
     "text": [
      "10\n",
      "20\n",
      "9\n"
     ]
    }
   ],
   "source": [
    "X = int(input())\n",
    "Y = int(input())\n",
    "day = 1\n",
    "while X < Y:\n",
    "    X = X * 1.1\n",
    "    day += 1\n",
    "print(day)"
   ]
  },
  {
   "cell_type": "markdown",
   "metadata": {},
   "source": [
    "# Задание №7"
   ]
  },
  {
   "cell_type": "code",
   "execution_count": 18,
   "metadata": {},
   "outputs": [
    {
     "name": "stdout",
     "output_type": "stream",
     "text": [
      "1\n",
      "7\n",
      "9\n",
      "0\n",
      "9\n"
     ]
    }
   ],
   "source": [
    "digit = 1\n",
    "maxd = 0\n",
    "while digit != 0:\n",
    "    digit = int(input())\n",
    "    if digit > maxd:\n",
    "        maxd = digit\n",
    "print(maxd)"
   ]
  },
  {
   "cell_type": "markdown",
   "metadata": {},
   "source": [
    "# Задание №8"
   ]
  },
  {
   "cell_type": "code",
   "execution_count": 22,
   "metadata": {},
   "outputs": [
    {
     "name": "stdout",
     "output_type": "stream",
     "text": [
      "3\n",
      "14\n"
     ]
    }
   ],
   "source": [
    "n = int(input())\n",
    "x = 0\n",
    "for i in range(n + 1):\n",
    "    x += i ** 2\n",
    "print(x)"
   ]
  },
  {
   "cell_type": "markdown",
   "metadata": {},
   "source": [
    "# Задание №9"
   ]
  },
  {
   "cell_type": "code",
   "execution_count": 26,
   "metadata": {},
   "outputs": [
    {
     "name": "stdout",
     "output_type": "stream",
     "text": [
      "1\n",
      "7\n",
      "9\n",
      "0\n",
      "3\n"
     ]
    }
   ],
   "source": [
    "digit = 1\n",
    "count = 0\n",
    "while digit != 0:\n",
    "    digit = int(input())\n",
    "    if digit != 0:\n",
    "        count += 1\n",
    "print(count)"
   ]
  },
  {
   "cell_type": "markdown",
   "metadata": {},
   "source": [
    "# Задание №10"
   ]
  },
  {
   "cell_type": "code",
   "execution_count": 27,
   "metadata": {},
   "outputs": [
    {
     "name": "stdout",
     "output_type": "stream",
     "text": [
      "1\n",
      "7\n",
      "9\n",
      "0\n",
      "17\n"
     ]
    }
   ],
   "source": [
    "digit = 1\n",
    "count = 0\n",
    "while digit != 0:\n",
    "    digit = int(input())\n",
    "    count += digit\n",
    "print(count)"
   ]
  },
  {
   "cell_type": "markdown",
   "metadata": {},
   "source": [
    "# Задание №11"
   ]
  },
  {
   "cell_type": "code",
   "execution_count": 28,
   "metadata": {},
   "outputs": [
    {
     "name": "stdout",
     "output_type": "stream",
     "text": [
      "1\n",
      "7\n",
      "9\n",
      "0\n",
      "5.666666666666667\n"
     ]
    }
   ],
   "source": [
    "digit = 1\n",
    "count = 0\n",
    "summ = 0\n",
    "while digit != 0:\n",
    "    digit = int(input())\n",
    "    summ += digit\n",
    "    if digit != 0:\n",
    "        count += 1\n",
    "print(summ / count)"
   ]
  },
  {
   "cell_type": "markdown",
   "metadata": {},
   "source": [
    "# Задание №12"
   ]
  },
  {
   "cell_type": "code",
   "execution_count": 30,
   "metadata": {},
   "outputs": [
    {
     "name": "stdout",
     "output_type": "stream",
     "text": [
      "2\n",
      "1\n",
      "4\n",
      "0\n",
      "2\n"
     ]
    }
   ],
   "source": [
    "digit = 1\n",
    "count = 0\n",
    "while digit != 0:\n",
    "    digit = int(input())\n",
    "    if digit % 2 == 0 and digit != 0:\n",
    "        count += 1\n",
    "print(count)"
   ]
  },
  {
   "cell_type": "markdown",
   "metadata": {},
   "source": [
    "# Задача №13"
   ]
  },
  {
   "cell_type": "code",
   "execution_count": 31,
   "metadata": {},
   "outputs": [
    {
     "name": "stdout",
     "output_type": "stream",
     "text": [
      "1\n",
      "7\n",
      "9\n",
      "0\n",
      "2\n"
     ]
    }
   ],
   "source": [
    "digit = 1\n",
    "ldigit = 0\n",
    "count = 0\n",
    "while digit != 0:\n",
    "    ldigit = digit\n",
    "    digit = int(input())\n",
    "    if digit > ldigit:\n",
    "        count += 1\n",
    "print(count)"
   ]
  },
  {
   "cell_type": "markdown",
   "metadata": {},
   "source": [
    "# Задача №14"
   ]
  },
  {
   "cell_type": "code",
   "execution_count": 32,
   "metadata": {},
   "outputs": [
    {
     "name": "stdout",
     "output_type": "stream",
     "text": [
      "1\n",
      "7\n",
      "9\n",
      "0\n",
      "7\n"
     ]
    }
   ],
   "source": [
    "digit = 1\n",
    "maxd = 0\n",
    "lmaxd = 0\n",
    "while digit != 0:\n",
    "    digit = int(input())\n",
    "    if digit > maxd:\n",
    "        lmaxd = maxd\n",
    "        maxd = digit\n",
    "print(lmaxd)"
   ]
  },
  {
   "cell_type": "markdown",
   "metadata": {},
   "source": [
    "# Задание №15"
   ]
  },
  {
   "cell_type": "code",
   "execution_count": 47,
   "metadata": {},
   "outputs": [
    {
     "name": "stdout",
     "output_type": "stream",
     "text": [
      "1\n",
      "3\n",
      "3\n",
      "1\n",
      "0\n",
      "2\n"
     ]
    }
   ],
   "source": [
    "digit = 1\n",
    "digits = []\n",
    "maxd = 0\n",
    "сount = 0\n",
    "while digit != 0:\n",
    "    digit = int(input())\n",
    "    digits.append(digit)\n",
    "    if digit > maxd:\n",
    "        maxd = digit\n",
    "\n",
    "for i in digits:\n",
    "    if i == maxd:\n",
    "        сount += 1\n",
    "\n",
    "print(сount)"
   ]
  },
  {
   "cell_type": "markdown",
   "metadata": {},
   "source": [
    "# Задание №16"
   ]
  },
  {
   "cell_type": "code",
   "execution_count": 82,
   "metadata": {},
   "outputs": [
    {
     "name": "stdout",
     "output_type": "stream",
     "text": [
      "6\n",
      "8\n"
     ]
    }
   ],
   "source": [
    "number = int(input())\n",
    "n = [0, 1]\n",
    "count = 1\n",
    "while count < number:\n",
    "    n.append(n[count] + n[count - 1])\n",
    "    count += 1\n",
    "print(n[-1])"
   ]
  },
  {
   "cell_type": "markdown",
   "metadata": {},
   "source": [
    "# Задание №17"
   ]
  },
  {
   "cell_type": "code",
   "execution_count": 90,
   "metadata": {},
   "outputs": [
    {
     "name": "stdout",
     "output_type": "stream",
     "text": [
      "8\n",
      "6\n"
     ]
    }
   ],
   "source": [
    "A = int(input())\n",
    "find = False\n",
    "n = [0, 1]\n",
    "count = 1\n",
    "while A > n[-1]:\n",
    "    n.append(n[count] + n[count - 1])\n",
    "    count += 1\n",
    "    if A == n[-1]:\n",
    "        print(count)\n",
    "        find = True\n",
    "if find == False:\n",
    "    print(-1)"
   ]
  },
  {
   "cell_type": "markdown",
   "metadata": {},
   "source": [
    "# Задание №18"
   ]
  },
  {
   "cell_type": "code",
   "execution_count": 94,
   "metadata": {},
   "outputs": [
    {
     "name": "stdout",
     "output_type": "stream",
     "text": [
      "1024\n",
      "1\n",
      ":2 :2 :2 :2 :2 :2 :2 :2 :2 :2\n"
     ]
    }
   ],
   "source": [
    "A = int(input())\n",
    "B = int(input())\n",
    "stages = []\n",
    "while A != B:\n",
    "    if A / 2 >= B and A % 2 == 0:\n",
    "        A = A / 2\n",
    "        stages.append(\":2\")\n",
    "    else:\n",
    "        A = A - 1\n",
    "        stages.append(\"-1\")\n",
    "print(*stages)"
   ]
  },
  {
   "cell_type": "markdown",
   "metadata": {},
   "source": [
    "# Задание №19"
   ]
  },
  {
   "cell_type": "code",
   "execution_count": 107,
   "metadata": {},
   "outputs": [
    {
     "name": "stdout",
     "output_type": "stream",
     "text": [
      "10\n",
      "01\n"
     ]
    }
   ],
   "source": [
    "N = str(input())\n",
    "print(N[::-1])"
   ]
  },
  {
   "cell_type": "markdown",
   "metadata": {},
   "source": [
    "# Задание №20"
   ]
  },
  {
   "cell_type": "code",
   "execution_count": 115,
   "metadata": {},
   "outputs": [
    {
     "name": "stdout",
     "output_type": "stream",
     "text": [
      "100\n",
      "18\n"
     ]
    }
   ],
   "source": [
    "k = int(input())\n",
    "couter = 0\n",
    "for i  in range(1, k, 1):\n",
    "    j = int(str(i)[::-1])\n",
    "    if i == j:\n",
    "        couter += 1\n",
    "print(couter)"
   ]
  },
  {
   "cell_type": "markdown",
   "metadata": {},
   "source": [
    "# Задание №21"
   ]
  },
  {
   "cell_type": "code",
   "execution_count": 118,
   "metadata": {},
   "outputs": [
    {
     "name": "stdout",
     "output_type": "stream",
     "text": [
      "1\n",
      "7\n",
      "7\n",
      "9\n",
      "1\n",
      "0\n",
      "2\n"
     ]
    }
   ],
   "source": [
    "digit = 1\n",
    "ldigit = 0\n",
    "count = 1\n",
    "rep = []\n",
    "while digit != 0:\n",
    "    ldigit = digit\n",
    "    digit = int(input())\n",
    "    if digit == ldigit:\n",
    "        count += 1\n",
    "    else:\n",
    "        rep.append(count)\n",
    "        count = 1\n",
    "print(max(rep))"
   ]
  },
  {
   "cell_type": "markdown",
   "metadata": {},
   "source": [
    "# Задание №22"
   ]
  },
  {
   "cell_type": "code",
   "execution_count": 124,
   "metadata": {},
   "outputs": [
    {
     "name": "stdout",
     "output_type": "stream",
     "text": [
      "1\n",
      "2\n",
      "3\n",
      "4\n",
      "5\n",
      "6\n",
      "7\n",
      "8\n",
      "9\n",
      "10\n",
      "11\n",
      "0\n",
      "11\n"
     ]
    }
   ],
   "source": [
    "digit = 1\n",
    "ldigit = 0\n",
    "count = 1\n",
    "rep = []\n",
    "st = []\n",
    "while digit != 0:\n",
    "    digit = int(input())\n",
    "    rep.append(digit)\n",
    "for i in range(len(rep) - 1):\n",
    "    if rep[i] < rep[i + 1]:\n",
    "        count += 1\n",
    "    else:\n",
    "        st.append(count)\n",
    "        count = 0\n",
    "for i in range(len(rep) - 1):\n",
    "    if rep[i] > rep[i + 1]:\n",
    "        count += 1\n",
    "    else:\n",
    "        st.append(count)\n",
    "        count = 0\n",
    "print(max(st))"
   ]
  },
  {
   "cell_type": "markdown",
   "metadata": {},
   "source": [
    "# Задание №23"
   ]
  },
  {
   "cell_type": "code",
   "execution_count": 1,
   "metadata": {},
   "outputs": [
    {
     "name": "stdout",
     "output_type": "stream",
     "text": [
      "1\n",
      "2\n",
      "1\n",
      "1\n",
      "2\n",
      "1\n",
      "2\n",
      "1\n",
      "0\n",
      "2\n"
     ]
    }
   ],
   "source": [
    "digit = 1\n",
    "local = []\n",
    "maxR = 0\n",
    "count = 0\n",
    "rep = []\n",
    "st = []\n",
    "while digit != 0:\n",
    "    digit = int(input())\n",
    "    rep.append(digit)\n",
    "for i in rep:\n",
    "    if i > maxR:\n",
    "        maxR = i\n",
    "for i in range(len(rep)):\n",
    "    if rep[i] == maxR:\n",
    "        count += 1\n",
    "        st.append(rep.index(rep[i]))\n",
    "        rep[i] = \" \"\n",
    "if count == 1:\n",
    "    print(\"NO\")\n",
    "else:\n",
    "    for i in range(0, len(st) - 1, 1):\n",
    "        local.append(st[i + 1] - st[i])\n",
    "    print(min(local))"
   ]
  },
  {
   "cell_type": "markdown",
   "metadata": {},
   "source": [
    "# Задание№24"
   ]
  },
  {
   "cell_type": "code",
   "execution_count": 126,
   "metadata": {},
   "outputs": [
    {
     "name": "stdout",
     "output_type": "stream",
     "text": [
      "3\n",
      "4\n",
      "5\n",
      "6.0\n"
     ]
    }
   ],
   "source": [
    "a = int(input())\n",
    "b = int(input())\n",
    "c = int(input())\n",
    "p = (a + b + c) / 2\n",
    "S = (p * (p - a) * (p - b) * (p - c)) ** (1/2)\n",
    "print(S)"
   ]
  },
  {
   "cell_type": "code",
   "execution_count": null,
   "metadata": {},
   "outputs": [],
   "source": []
  }
 ],
 "metadata": {
  "kernelspec": {
   "display_name": "Python 3",
   "language": "python",
   "name": "python3"
  },
  "language_info": {
   "codemirror_mode": {
    "name": "ipython",
    "version": 3
   },
   "file_extension": ".py",
   "mimetype": "text/x-python",
   "name": "python",
   "nbconvert_exporter": "python",
   "pygments_lexer": "ipython3",
   "version": "3.7.6"
  }
 },
 "nbformat": 4,
 "nbformat_minor": 4
}
