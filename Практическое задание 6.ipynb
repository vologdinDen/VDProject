{
 "cells": [
  {
   "cell_type": "markdown",
   "metadata": {},
   "source": [
    "# Практическое задание 6"
   ]
  },
  {
   "cell_type": "markdown",
   "metadata": {},
   "source": [
    "## Задание №1"
   ]
  },
  {
   "cell_type": "code",
   "execution_count": 3,
   "metadata": {},
   "outputs": [
    {
     "name": "stdout",
     "output_type": "stream",
     "text": [
      "3\n",
      "1.3611111111111112\n"
     ]
    }
   ],
   "source": [
    "summ = 0\n",
    "for i in range(1, int(input()) + 1):\n",
    "    summ += 1/(i ** 2)\n",
    "print(summ)"
   ]
  },
  {
   "cell_type": "markdown",
   "metadata": {},
   "source": [
    "## Задание №2"
   ]
  },
  {
   "cell_type": "code",
   "execution_count": 17,
   "metadata": {},
   "outputs": [
    {
     "name": "stdout",
     "output_type": "stream",
     "text": [
      "10.34\n",
      "0.34\n"
     ]
    }
   ],
   "source": [
    "digit = float(input())\n",
    "print(round(digit - round(digit), 9))"
   ]
  },
  {
   "cell_type": "markdown",
   "metadata": {},
   "source": [
    "## Задание №3"
   ]
  },
  {
   "cell_type": "code",
   "execution_count": 28,
   "metadata": {},
   "outputs": [
    {
     "name": "stdout",
     "output_type": "stream",
     "text": [
      "10.34\n",
      "10 34\n"
     ]
    }
   ],
   "source": [
    "price = float(input())\n",
    "cel = round(price)\n",
    "nocel = str(round(price - round(price), 9))\n",
    "print(cel, nocel[2:])"
   ]
  },
  {
   "cell_type": "markdown",
   "metadata": {},
   "source": [
    "## Задание №4"
   ]
  },
  {
   "cell_type": "code",
   "execution_count": 35,
   "metadata": {},
   "outputs": [
    {
     "name": "stdout",
     "output_type": "stream",
     "text": [
      "2.7\n",
      "3\n"
     ]
    }
   ],
   "source": [
    "x = float(input())\n",
    "nocel = float(x - int(x))\n",
    "if nocel == 0.5:\n",
    "    x = int(x + 0.5)\n",
    "elif nocel < 0.5:\n",
    "    x = int(x)\n",
    "else:\n",
    "    x = int(x + 1)\n",
    "print(x)"
   ]
  },
  {
   "cell_type": "markdown",
   "metadata": {},
   "source": [
    "## Задание №5"
   ]
  },
  {
   "cell_type": "code",
   "execution_count": 49,
   "metadata": {},
   "outputs": [
    {
     "name": "stdout",
     "output_type": "stream",
     "text": [
      "12\n",
      "179\n",
      "0\n",
      "200 48\n"
     ]
    }
   ],
   "source": [
    "P, X, Y = int(input()), int(input()), int(input())\n",
    "summ = float(str(X) + \".\" + str(Y)) * (P / 100 + 1.0)\n",
    "print(int(summ), str(round(summ - int(summ),9))[2:])"
   ]
  },
  {
   "cell_type": "markdown",
   "metadata": {},
   "source": [
    "## Задание №6"
   ]
  },
  {
   "cell_type": "code",
   "execution_count": 62,
   "metadata": {},
   "outputs": [
    {
     "name": "stdout",
     "output_type": "stream",
     "text": [
      "12\n",
      "179\n",
      "0\n",
      "5\n",
      "315 46\n"
     ]
    }
   ],
   "source": [
    "from decimal import Decimal\n",
    "P, X, Y, K = int(input()), int(input()), int(input()), int(input())\n",
    "summ = Decimal(float(str(X) + \".\" + str(Y)) * (P / 100 + 1.0))\n",
    "for i in range(K - 1):\n",
    "    summ = summ * Decimal((P / 100 + 1.0))\n",
    "print(int(summ), str(round(summ - int(summ),2))[2:])"
   ]
  },
  {
   "cell_type": "markdown",
   "metadata": {},
   "source": [
    "## Задание №7"
   ]
  },
  {
   "cell_type": "code",
   "execution_count": 63,
   "metadata": {},
   "outputs": [
    {
     "name": "stdout",
     "output_type": "stream",
     "text": [
      "5\n",
      "7.1\n",
      "1\n",
      "2\n",
      "3\n",
      "4\n",
      "5\n",
      "6\n",
      "24441.5\n"
     ]
    }
   ],
   "source": [
    "n = int(input())\n",
    "x = float(input())\n",
    "a1 = float(input())\n",
    "j = 10\n",
    "P = a1\n",
    "for i in range(n):\n",
    "    a2 = int(input())\n",
    "    P = P * x + a2\n",
    "K = int((P * j) % j)\n",
    "while K != 0:\n",
    "    j *= 10\n",
    "    K = int((P * j) % 10)\n",
    "if j != 10:\n",
    "    P = ((P * (j / 10)) // 1) / (j / 10)\n",
    "    print(P)\n",
    "else:\n",
    "    print(int(P))"
   ]
  },
  {
   "cell_type": "markdown",
   "metadata": {},
   "source": [
    "## Задачние №8"
   ]
  },
  {
   "cell_type": "code",
   "execution_count": 71,
   "metadata": {},
   "outputs": [
    {
     "name": "stdout",
     "output_type": "stream",
     "text": [
      "1\n",
      "7\n",
      "9\n",
      "0\n",
      "4.163331998932266\n"
     ]
    }
   ],
   "source": [
    "lst = []\n",
    "number = 0\n",
    "while True:\n",
    "    lst.append(int(input()))\n",
    "    number += 1\n",
    "    if lst[-1] == 0:\n",
    "        lst.remove(0)\n",
    "        number -= 1\n",
    "        break\n",
    "summ = 0\n",
    "for i in lst:\n",
    "    summ += i\n",
    "S = summ / number\n",
    "pg = 0\n",
    "for i in lst:\n",
    "    pg = pg + ((i - S) ** 2)\n",
    "print((pg / (number - 1)) ** 0.5)"
   ]
  },
  {
   "cell_type": "markdown",
   "metadata": {},
   "source": [
    "## Задание №9"
   ]
  },
  {
   "cell_type": "code",
   "execution_count": 1,
   "metadata": {},
   "outputs": [
    {
     "name": "stdout",
     "output_type": "stream",
     "text": [
      "1\n",
      "-1\n",
      "-2\n",
      "2.0 -1.0\n"
     ]
    }
   ],
   "source": [
    "a, b, c = int(input()), int(input()), int(input())\n",
    "D = (a ** 2) - (4 * c)\n",
    "if D > 0:\n",
    "    print((-b + D ** 0.5) / (2 * a), (-b - D ** 0.5) / (2 * a))\n",
    "elif D == 0:\n",
    "    print(-b / (2 * a))"
   ]
  },
  {
   "cell_type": "markdown",
   "metadata": {},
   "source": [
    "## Задание №10"
   ]
  },
  {
   "cell_type": "code",
   "execution_count": 2,
   "metadata": {},
   "outputs": [
    {
     "name": "stdout",
     "output_type": "stream",
     "text": [
      "1\n",
      "-1\n",
      "-2\n",
      "2 2.0 -1.0\n"
     ]
    }
   ],
   "source": [
    "a, b, c = int(input()), int(input()), int(input())\n",
    "D = (a ** 2) - (4 * c)\n",
    "if D > 0:\n",
    "    print(2, (-b + D ** 0.5) / (2 * a), (-b - D ** 0.5) / (2 * a))\n",
    "elif D == 0:\n",
    "    print(1, -b / (2 * a))\n",
    "else:\n",
    "    print(0)"
   ]
  },
  {
   "cell_type": "markdown",
   "metadata": {},
   "source": [
    "## Задание №11"
   ]
  },
  {
   "cell_type": "code",
   "execution_count": 4,
   "metadata": {},
   "outputs": [
    {
     "name": "stdout",
     "output_type": "stream",
     "text": [
      "1\n",
      "0\n",
      "0\n",
      "1\n",
      "3\n",
      "3\n",
      "3 3.0\n"
     ]
    }
   ],
   "source": [
    "a, b, c, d, e, f = int(input()), int(input()), int(input()), int(input()), int(input()), int(input())\n",
    "x, y = 0, 0\n",
    "if a == 0:\n",
    "    y = e\n",
    "    x = (f - d * y) / c\n",
    "    print(x, y)\n",
    "elif b == 0:\n",
    "    x = e\n",
    "    y = (f - c * x) / d\n",
    "    print(x, y)\n",
    "elif c == 0:\n",
    "    y = f\n",
    "    x = (e - b * y) / a\n",
    "    print(x, y)\n",
    "elif b == 0:\n",
    "    x = f\n",
    "    y = (e - a * x) / d\n",
    "    print(x, y)"
   ]
  },
  {
   "cell_type": "markdown",
   "metadata": {},
   "source": [
    "## Задание №12"
   ]
  },
  {
   "cell_type": "code",
   "execution_count": 5,
   "metadata": {},
   "outputs": [
    {
     "name": "stdout",
     "output_type": "stream",
     "text": [
      "1\n",
      "1\n",
      "2\n",
      "2\n",
      "1\n",
      "2\n",
      "1 -1.0 1.0\n"
     ]
    }
   ],
   "source": [
    "a, b, c, d, e, f = int(input()), int(input()), int(input()), int(input()), int(input()), int(input())\n",
    "x, y = 0, 0\n",
    "if a == 0 and c == 0:\n",
    "    y = e / b\n",
    "    print(4, y)\n",
    "elif b == 0 and d == 0:\n",
    "    x = e / a\n",
    "    print(3, x)\n",
    "elif a == 0:\n",
    "    y = e\n",
    "    x = (f - d * y) / c\n",
    "    print(2, x, y)\n",
    "elif b == 0:\n",
    "    x = e\n",
    "    y = (f - c * x) / d\n",
    "    print(2, x, y)\n",
    "elif c == 0:\n",
    "    y = f\n",
    "    x = (e - b * y) / a\n",
    "    print(2, x, y)\n",
    "elif b == 0:\n",
    "    x = f\n",
    "    y = (e - a * x) / d\n",
    "    print(2, x, y)\n",
    "elif a == b == c == d == 0:\n",
    "    print(5)\n",
    "elif a * d == b * c and a * f == c * e:\n",
    "    if b != 0:\n",
    "        print(1, -a / b, e / b)\n",
    "    else:\n",
    "        print(1, -c / d, f / d)   \n",
    "else:\n",
    "    print(0)"
   ]
  },
  {
   "cell_type": "markdown",
   "metadata": {},
   "source": [
    "## Задание №13"
   ]
  },
  {
   "cell_type": "code",
   "execution_count": 15,
   "metadata": {},
   "outputs": [
    {
     "name": "stdout",
     "output_type": "stream",
     "text": [
      "Abrakadabra\n",
      "a\n",
      "r\n",
      "Abra\n",
      "Abrakadab\n",
      "Arkdba\n",
      "baaar\n",
      "arbadakarbA\n",
      "abdkrA\n",
      "11\n"
     ]
    }
   ],
   "source": [
    "st = str(input())\n",
    "print(st[3])\n",
    "print(st[-2])\n",
    "print(st[0:4])\n",
    "print(st[:-2])\n",
    "print(st[::2])\n",
    "print(st[1::2])\n",
    "print(st[::-1])\n",
    "i = len(st) - 1\n",
    "sp = \"\"\n",
    "while i > -1:\n",
    "    sp = sp + st[i]\n",
    "    i -= 2\n",
    "print(sp)\n",
    "print(len(st))"
   ]
  },
  {
   "cell_type": "markdown",
   "metadata": {},
   "source": [
    "## Задание №14"
   ]
  },
  {
   "cell_type": "code",
   "execution_count": 17,
   "metadata": {},
   "outputs": [
    {
     "name": "stdout",
     "output_type": "stream",
     "text": [
      "office\n",
      "1 2\n"
     ]
    }
   ],
   "source": [
    "st = str(input())\n",
    "if st.find(\"f\") == st.rfind(\"f\"):\n",
    "    print(st.index('f'))\n",
    "elif st.find(\"f\") != st.rfind(\"f\"):\n",
    "    print(st.index('f'), st.rindex('f'))"
   ]
  },
  {
   "cell_type": "markdown",
   "metadata": {},
   "source": [
    "## Задание №15"
   ]
  },
  {
   "cell_type": "code",
   "execution_count": 21,
   "metadata": {},
   "outputs": [
    {
     "name": "stdout",
     "output_type": "stream",
     "text": [
      "In the hole in the ground there lived a hobbit\n",
      "In tobbit\n"
     ]
    }
   ],
   "source": [
    "st = str(input())\n",
    "st = st[:st.find(\"h\")] + st[st.rfind(\"h\") + 1:]\n",
    "print(st)"
   ]
  },
  {
   "cell_type": "markdown",
   "metadata": {},
   "source": [
    "## Задание №16"
   ]
  },
  {
   "cell_type": "code",
   "execution_count": 24,
   "metadata": {},
   "outputs": [
    {
     "name": "stdout",
     "output_type": "stream",
     "text": [
      "In the hole in the ground there lived a hobbit\n",
      "e hole in the ground there lived a e hole in the ground there lived a \n"
     ]
    }
   ],
   "source": [
    "st = str(input())\n",
    "st = st[st.find(\"h\") + 1:st.rfind(\"h\")]\n",
    "print(st * 2)"
   ]
  },
  {
   "cell_type": "markdown",
   "metadata": {},
   "source": [
    "## Задание №17"
   ]
  },
  {
   "cell_type": "code",
   "execution_count": 27,
   "metadata": {},
   "outputs": [
    {
     "name": "stdout",
     "output_type": "stream",
     "text": [
      "coffe\n",
      "3\n"
     ]
    }
   ],
   "source": [
    "st = str(input())\n",
    "if st.find(\"f\") == -1:\n",
    "    print(2)\n",
    "else:\n",
    "    x = st.find(\"f\")\n",
    "    st = st[x + 1:]\n",
    "    if st.find(\"f\") == -1:\n",
    "        print(-1)\n",
    "    else:\n",
    "        print(st.find(\"f\") + x + 1)"
   ]
  },
  {
   "cell_type": "markdown",
   "metadata": {},
   "source": [
    "## Задание №18"
   ]
  },
  {
   "cell_type": "code",
   "execution_count": 28,
   "metadata": {},
   "outputs": [
    {
     "name": "stdout",
     "output_type": "stream",
     "text": [
      "A B\n",
      "B A\n"
     ]
    }
   ],
   "source": [
    "st = str(input())\n",
    "if st.find(',') != -1:\n",
    "    sp = st[:st.find(',')]\n",
    "    sv = st[st.find(',') + 1:]\n",
    "    print(sv, sp)\n",
    "if st.find(' ') != -1:\n",
    "    sp = st[:st.find(' ')]\n",
    "    sv = st[st.find(' ') + 1:]\n",
    "    print(sv, sp)"
   ]
  },
  {
   "cell_type": "markdown",
   "metadata": {},
   "source": [
    "## Задание №19"
   ]
  },
  {
   "cell_type": "code",
   "execution_count": 29,
   "metadata": {},
   "outputs": [
    {
     "name": "stdout",
     "output_type": "stream",
     "text": [
      "q w e\n",
      "3\n"
     ]
    }
   ],
   "source": [
    "st = str(input())\n",
    "print(st.count(\" \") + 1)"
   ]
  },
  {
   "cell_type": "markdown",
   "metadata": {},
   "source": [
    "## Задание №20"
   ]
  },
  {
   "cell_type": "code",
   "execution_count": 30,
   "metadata": {},
   "outputs": [
    {
     "name": "stdout",
     "output_type": "stream",
     "text": [
      "1+1=2\n",
      "one+one=2\n"
     ]
    }
   ],
   "source": [
    "st = str(input())\n",
    "for i in  st:\n",
    "    if i == \"1\":\n",
    "        st = st[:st.index(i)] + \"one\" + st[st.index(i) + 1:]\n",
    "print(st)"
   ]
  },
  {
   "cell_type": "markdown",
   "metadata": {},
   "source": [
    "## Задание № 21"
   ]
  },
  {
   "cell_type": "code",
   "execution_count": 31,
   "metadata": {},
   "outputs": [
    {
     "name": "stdout",
     "output_type": "stream",
     "text": [
      "Bilbo.Baggins@bagend.hobbiton.shire.me\n",
      "Bilbo.Bagginsbagend.hobbiton.shire.me\n"
     ]
    }
   ],
   "source": [
    "st = str(input())\n",
    "for i in  st:\n",
    "    if i == \"@\":\n",
    "        st = st[:st.index(i)]  + st[st.index(i) + 1:]\n",
    "print(st)"
   ]
  },
  {
   "cell_type": "markdown",
   "metadata": {},
   "source": [
    "## Задание №22"
   ]
  },
  {
   "cell_type": "code",
   "execution_count": 35,
   "metadata": {},
   "outputs": [
    {
     "name": "stdout",
     "output_type": "stream",
     "text": [
      "In the hole in the ground there lived a hobbit\n",
      "In the Hole in tHe ground tHere lived a hobbit\n"
     ]
    }
   ],
   "source": [
    "st = str(input())\n",
    "sp = st[st.find(\"h\") + 1:st.rfind(\"h\")]\n",
    "for i in sp:\n",
    "    if i == \"h\":\n",
    "        sp = sp[:sp.index(i)] + \"H\" + sp[sp.index(i) + 1:]\n",
    "print(st[:st.find(\"h\") + 1] + sp + st[st.rfind(\"h\"):])"
   ]
  },
  {
   "cell_type": "markdown",
   "metadata": {},
   "source": [
    "## Задание №23"
   ]
  },
  {
   "cell_type": "code",
   "execution_count": 39,
   "metadata": {},
   "outputs": [
    {
     "name": "stdout",
     "output_type": "stream",
     "text": [
      "Python\n",
      "P*y*t*h*o*n\n"
     ]
    }
   ],
   "source": [
    "st = str(input())\n",
    "for i in st:\n",
    "    st = st[:st.index(i)] + \"*\" + st[st.index(i):]\n",
    "print(st[1:])"
   ]
  },
  {
   "cell_type": "markdown",
   "metadata": {},
   "source": [
    "## Задание №24"
   ]
  },
  {
   "cell_type": "code",
   "execution_count": 51,
   "metadata": {},
   "outputs": [
    {
     "name": "stdout",
     "output_type": "stream",
     "text": [
      "Python\n",
      "yton\n"
     ]
    }
   ],
   "source": [
    "st = str(input())\n",
    "lst = []\n",
    "for i in st:\n",
    "    if st.index(i) % 3 != 0:\n",
    "        lst.append(i)\n",
    "print(\"\".join(lst))"
   ]
  },
  {
   "cell_type": "code",
   "execution_count": null,
   "metadata": {},
   "outputs": [],
   "source": []
  }
 ],
 "metadata": {
  "kernelspec": {
   "display_name": "Python 3",
   "language": "python",
   "name": "python3"
  },
  "language_info": {
   "codemirror_mode": {
    "name": "ipython",
    "version": 3
   },
   "file_extension": ".py",
   "mimetype": "text/x-python",
   "name": "python",
   "nbconvert_exporter": "python",
   "pygments_lexer": "ipython3",
   "version": "3.7.6"
  }
 },
 "nbformat": 4,
 "nbformat_minor": 4
}
