{
 "cells": [
  {
   "cell_type": "code",
   "execution_count": null,
   "metadata": {},
   "outputs": [],
   "source": [
    "# Задание №1\n",
    "name = str(input())\n",
    "print(f\"Hello, {name}!\")"
   ]
  },
  {
   "cell_type": "code",
   "execution_count": 6,
   "metadata": {},
   "outputs": [
    {
     "name": "stdout",
     "output_type": "stream",
     "text": [
      "2\n",
      " _~_  _~_ \n",
      " (o o)  (o o) \n",
      " / V \\  / V \\ \n",
      "/( _ )\\/( _ )\\\n",
      " ^^ ^^  ^^ ^^ \n"
     ]
    }
   ],
   "source": [
    "# Задание №2\n",
    "pingium =\"\"\"_~_\n",
    " (o o)\n",
    " / V \\\\\n",
    "/( _ )\\\\\n",
    " ^^ ^^     \"\"\"\n",
    "n = int(input())\n",
    "print(\" _~_ \"*n,\" (o o) \"*n,\" / V \\\\ \"*n,\"/( _ )\\\\\"*n,\" ^^ ^^ \"*n,sep=\"\\n\")\n"
   ]
  },
  {
   "cell_type": "code",
   "execution_count": null,
   "metadata": {},
   "outputs": [],
   "source": [
    "# Задание №3\n",
    "students = int(input())\n",
    "appl = int(input())\n",
    "print(appl // students)"
   ]
  },
  {
   "cell_type": "code",
   "execution_count": null,
   "metadata": {},
   "outputs": [],
   "source": [
    "# Задание №4\n",
    "students = int(input())\n",
    "appl = int(input())\n",
    "print(appl % students)"
   ]
  },
  {
   "cell_type": "code",
   "execution_count": null,
   "metadata": {},
   "outputs": [],
   "source": [
    "# Задание №5\n",
    "print(int(input()) ** 2)"
   ]
  },
  {
   "cell_type": "code",
   "execution_count": null,
   "metadata": {},
   "outputs": [],
   "source": [
    "# Задание №6\n",
    "print(int(input()) % 10)"
   ]
  },
  {
   "cell_type": "code",
   "execution_count": null,
   "metadata": {},
   "outputs": [],
   "source": [
    "# Задание №7\n",
    "print(int(input()) // 10)"
   ]
  },
  {
   "cell_type": "code",
   "execution_count": null,
   "metadata": {},
   "outputs": [],
   "source": [
    "# Задание №8\n",
    "print((int(input()) % 100) // 10)"
   ]
  },
  {
   "cell_type": "code",
   "execution_count": null,
   "metadata": {},
   "outputs": [],
   "source": [
    "# Задание №9\n",
    "digit = int(input())\n",
    "print(digit % 10 + (digit % 100) // 10 + digit // 100)"
   ]
  },
  {
   "cell_type": "code",
   "execution_count": null,
   "metadata": {},
   "outputs": [],
   "source": [
    "# Задание №10\n",
    "print(\"A\" * 100)"
   ]
  },
  {
   "cell_type": "code",
   "execution_count": null,
   "metadata": {},
   "outputs": [],
   "source": [
    "# Задание №11\n",
    "N = int(input())\n",
    "print(N // 60, (N - (N // 60) * 60) if (N - (N // 60) * 60) != 0 else \"00\")"
   ]
  },
  {
   "cell_type": "code",
   "execution_count": null,
   "metadata": {},
   "outputs": [],
   "source": [
    "# Задание №12\n",
    "A = int(input())\n",
    "B = int(input())\n",
    "N = int(input())\n",
    "print((A * N) + (B * N // 100), (B * N) % 100)"
   ]
  },
  {
   "cell_type": "code",
   "execution_count": null,
   "metadata": {},
   "outputs": [],
   "source": [
    "# Задание №13\n",
    "number = int(input())\n",
    "print(f\"\"\"The next number for the number {number} is {number + 1}.\n",
    "The previous number for the number {number} is {number - 1}.\"\"\")"
   ]
  },
  {
   "cell_type": "code",
   "execution_count": null,
   "metadata": {},
   "outputs": [],
   "source": [
    "# Задание №14\n",
    "print(0 if int(input()) == 1 else 1)"
   ]
  },
  {
   "cell_type": "code",
   "execution_count": null,
   "metadata": {},
   "outputs": [],
   "source": [
    "# Задание №15\n",
    "digit = int(input())\n",
    "print(digit + 1 if (digit + 1) % 2 == 0 else digit + 2)"
   ]
  },
  {
   "cell_type": "code",
   "execution_count": null,
   "metadata": {},
   "outputs": [],
   "source": [
    "# Задание №16\n",
    "N = int(input())\n",
    "print(int((str(N) * 100)) ** 2)"
   ]
  },
  {
   "cell_type": "code",
   "execution_count": null,
   "metadata": {},
   "outputs": [],
   "source": [
    "# Задание №17\n",
    "V = int(input())\n",
    "T = int(input())\n",
    "print(V * T % 109)"
   ]
  },
  {
   "cell_type": "code",
   "execution_count": null,
   "metadata": {},
   "outputs": [],
   "source": [
    "# Задание №18\n",
    "N = int(input())\n",
    "minuts = N // 60\n",
    "hours = minuts // 60\n",
    "minuts = minuts - ((minuts // 60) * 60)\n",
    "seconds = N - hours * 3600 - minuts * 60\n",
    "print(f\"{hours}:{minuts if minuts > 9 else f'0{minuts}'}:{seconds if seconds > 9 else f'0{seconds}'}\")"
   ]
  },
  {
   "cell_type": "code",
   "execution_count": null,
   "metadata": {},
   "outputs": [],
   "source": [
    "# Задание №19\n",
    "hours1 = int(input())\n",
    "minuts1 = int(input())\n",
    "seconds1 = int(input())\n",
    "hours2 = int(input())\n",
    "minuts2 = int(input())\n",
    "seconds2 = int(input())\n",
    "print((hours2 * 3600 + minuts2 * 60 + seconds2) - (hours1 * 3600 + minuts1 * 60 + seconds1))"
   ]
  },
  {
   "cell_type": "code",
   "execution_count": null,
   "metadata": {},
   "outputs": [],
   "source": [
    "# Задание №20\n",
    "N = int(input())\n",
    "M = int(input())\n",
    "counter = 1\n",
    "while M > N:\n",
    "    M = M - N\n",
    "    counter += 1\n",
    "print(counter)"
   ]
  },
  {
   "cell_type": "code",
   "execution_count": null,
   "metadata": {},
   "outputs": [],
   "source": [
    "# Задача №21\n",
    "H = int(input())\n",
    "A = int(input())\n",
    "B = int(input())\n",
    "point = 0\n",
    "Days = 1\n",
    "while H - point != A:\n",
    "    point += A\n",
    "    Days += 1\n",
    "    point -= B\n",
    "print(Days)"
   ]
  },
  {
   "cell_type": "code",
   "execution_count": null,
   "metadata": {},
   "outputs": [],
   "source": [
    "# Задача №22\n",
    "N = int(input())\n",
    "print(1 if N % 10 == N // 1000 and (N // 100) % 10 == (N % 100) // 10 else 0)"
   ]
  },
  {
   "cell_type": "code",
   "execution_count": null,
   "metadata": {},
   "outputs": [],
   "source": [
    "# Задача №23\n",
    "A = int(input())\n",
    "B = int(input())\n",
    "print(int(((A // B) * A + (B // A) * B / ((A // B) + (B // A)))"
   ]
  },
  {
   "cell_type": "code",
   "execution_count": null,
   "metadata": {},
   "outputs": [],
   "source": [
    "# Задача №24\n",
    "print('YES' if int(input()) % int(input()) == 0 else 'NO')"
   ]
  },
  {
   "cell_type": "code",
   "execution_count": null,
   "metadata": {},
   "outputs": [],
   "source": []
  }
 ],
 "metadata": {
  "kernelspec": {
   "display_name": "Python 3",
   "language": "python",
   "name": "python3"
  },
  "language_info": {
   "codemirror_mode": {
    "name": "ipython",
    "version": 3
   },
   "file_extension": ".py",
   "mimetype": "text/x-python",
   "name": "python",
   "nbconvert_exporter": "python",
   "pygments_lexer": "ipython3",
   "version": "3.7.6"
  }
 },
 "nbformat": 4,
 "nbformat_minor": 4
}
