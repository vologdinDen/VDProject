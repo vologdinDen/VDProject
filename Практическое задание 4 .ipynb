{
 "cells": [
  {
   "cell_type": "markdown",
   "metadata": {},
   "source": [
    "# Практическое задание 4"
   ]
  },
  {
   "cell_type": "markdown",
   "metadata": {},
   "source": [
    "## Задание №1"
   ]
  },
  {
   "cell_type": "code",
   "execution_count": 3,
   "metadata": {},
   "outputs": [
    {
     "name": "stdout",
     "output_type": "stream",
     "text": [
      "8\n",
      "5\n",
      "8\n"
     ]
    }
   ],
   "source": [
    "A = int(input())\n",
    "B = int(input())\n",
    "print(A if A >= B else B)"
   ]
  },
  {
   "cell_type": "markdown",
   "metadata": {},
   "source": [
    "## Задание №2"
   ]
  },
  {
   "cell_type": "code",
   "execution_count": 4,
   "metadata": {},
   "outputs": [
    {
     "name": "stdout",
     "output_type": "stream",
     "text": [
      "1\n",
      "2\n",
      "2\n"
     ]
    }
   ],
   "source": [
    "A = int(input())\n",
    "B = int(input())\n",
    "v = 0\n",
    "if A > B:\n",
    "    v = 1\n",
    "elif A < B:\n",
    "    v = 2\n",
    "print(v)"
   ]
  },
  {
   "cell_type": "markdown",
   "metadata": {},
   "source": [
    "## Задание №3"
   ]
  },
  {
   "cell_type": "code",
   "execution_count": 5,
   "metadata": {},
   "outputs": [
    {
     "name": "stdout",
     "output_type": "stream",
     "text": [
      "1\n",
      "2\n",
      "3\n",
      "3\n"
     ]
    }
   ],
   "source": [
    "A = int(input())\n",
    "B = int(input())\n",
    "C = int(input())\n",
    "if A > B and A > C:\n",
    "    print(A)\n",
    "if B > A and B > C:\n",
    "    print(B)\n",
    "if C > B and C > B:\n",
    "    print(C)"
   ]
  },
  {
   "cell_type": "markdown",
   "metadata": {},
   "source": [
    "## Задание №4"
   ]
  },
  {
   "cell_type": "code",
   "execution_count": 6,
   "metadata": {},
   "outputs": [
    {
     "name": "stdout",
     "output_type": "stream",
     "text": [
      "4\n",
      "YES\n"
     ]
    }
   ],
   "source": [
    "N = int(input())\n",
    "print(\"YES\" if (N % 4 == 0 and N % 100 != 0) or N % 400 == 0 else \"NO\")"
   ]
  },
  {
   "cell_type": "markdown",
   "metadata": {},
   "source": [
    "## Задание №5"
   ]
  },
  {
   "cell_type": "code",
   "execution_count": 7,
   "metadata": {},
   "outputs": [
    {
     "name": "stdout",
     "output_type": "stream",
     "text": [
      "4\n",
      "4\n",
      "5\n",
      "5\n",
      "YES\n"
     ]
    }
   ],
   "source": [
    "cell_1 = int(input())\n",
    "cell_2 = int(input())\n",
    "cell_3 = int(input())\n",
    "cell_4 = int(input())\n",
    "print(\"YES\" if (cell_1 - cell_3 == 1 or cell_3 - cell_1 == 1) and (cell_2 - cell_4 == 1 or cell_4 - cell_2 == 1) else \"NO\")"
   ]
  },
  {
   "cell_type": "markdown",
   "metadata": {},
   "source": [
    "## Задание №6"
   ]
  },
  {
   "cell_type": "code",
   "execution_count": 8,
   "metadata": {},
   "outputs": [
    {
     "name": "stdout",
     "output_type": "stream",
     "text": [
      "11\n",
      "15\n",
      "YES\n"
     ]
    }
   ],
   "source": [
    "x = int(input())\n",
    "y = int(input())\n",
    "print(\"YES\" if (x - 1) % (y - (x - 1)) == 0 else \"NO\")"
   ]
  },
  {
   "cell_type": "markdown",
   "metadata": {},
   "source": [
    "## Задание №7"
   ]
  },
  {
   "cell_type": "code",
   "execution_count": 9,
   "metadata": {},
   "outputs": [
    {
     "name": "stdout",
     "output_type": "stream",
     "text": [
      "1\n",
      "1\n",
      "2\n",
      "2\n",
      "YES\n"
     ]
    }
   ],
   "source": [
    "desk = [[\"black\", \"white\", \"black\", \"white\", \"black\", \"white\", \"black\", \"white\"],\n",
    "        [\"white\", \"black\", \"white\", \"black\", \"white\", \"black\", \"white\", \"black\"],\n",
    "        [\"black\", \"white\", \"black\", \"white\", \"black\", \"white\", \"black\", \"white\"],\n",
    "        [\"white\", \"black\", \"white\", \"black\", \"white\", \"black\", \"white\", \"black\"],\n",
    "        [\"black\", \"white\", \"black\", \"white\", \"black\", \"white\", \"black\", \"white\"],\n",
    "        [\"white\", \"black\", \"white\", \"black\", \"white\", \"black\", \"white\", \"black\"],\n",
    "        [\"black\", \"white\", \"black\", \"white\", \"black\", \"white\", \"black\", \"white\"],\n",
    "        [\"white\", \"black\", \"white\", \"black\", \"white\", \"black\", \"white\", \"black\"]\n",
    "]\n",
    "cell_1 = desk[int(input())][int(input())]\n",
    "cell_2 = desk[int(input())][int(input())]\n",
    "print(\"YES\" if cell_1 == cell_2 else \"NO\")"
   ]
  },
  {
   "cell_type": "markdown",
   "metadata": {},
   "source": [
    "## Задание №8"
   ]
  },
  {
   "cell_type": "code",
   "execution_count": 10,
   "metadata": {},
   "outputs": [
    {
     "name": "stdout",
     "output_type": "stream",
     "text": [
      "4\n",
      "2\n",
      "6\n",
      "YES\n"
     ]
    }
   ],
   "source": [
    "n = int(input())\n",
    "m = int(input())\n",
    "k = int(input())\n",
    "s = n * m\n",
    "print(\"YES\" if (k % n == 0 or k % m == 0) and k <= s else \"NO\")"
   ]
  },
  {
   "cell_type": "markdown",
   "metadata": {},
   "source": [
    "## Задание №9"
   ]
  },
  {
   "cell_type": "code",
   "execution_count": 11,
   "metadata": {},
   "outputs": [
    {
     "name": "stdout",
     "output_type": "stream",
     "text": [
      "2\n",
      "На лугу пасется 2 коровы\n"
     ]
    }
   ],
   "source": [
    "cow = int(input())\n",
    "if 10 < cow < 20 or cow % 10 == 0 or cow % 10 == 5 or cow % 10 == 6 or cow % 10 == 7 or cow % 10 == 8 or cow % 10 == 9:\n",
    "    print(f\"На лугу пасётся {cow} коров\")\n",
    "elif cow % 10 == 1:\n",
    "    print(f\"На лугу пасётся {cow} корова\")\n",
    "else:\n",
    "    print(f\"На лугу пасётся {cow} коровы\")"
   ]
  },
  {
   "cell_type": "markdown",
   "metadata": {},
   "source": [
    "## Задание №10"
   ]
  },
  {
   "cell_type": "code",
   "execution_count": 12,
   "metadata": {},
   "outputs": [
    {
     "name": "stdout",
     "output_type": "stream",
     "text": [
      "3\n",
      "1\n"
     ]
    }
   ],
   "source": [
    "digit = int(input())\n",
    "if digit > 0:\n",
    "    print(1)\n",
    "elif digit < 0:\n",
    "    print(-1)\n",
    "else:\n",
    "    print(0)"
   ]
  },
  {
   "cell_type": "markdown",
   "metadata": {},
   "source": [
    "## Задание №11"
   ]
  },
  {
   "cell_type": "code",
   "execution_count": 13,
   "metadata": {},
   "outputs": [
    {
     "name": "stdout",
     "output_type": "stream",
     "text": [
      "3\n",
      "3\n",
      "5\n",
      "1\n",
      "YES\n"
     ]
    }
   ],
   "source": [
    "ponint_1 = [int(input()), int(input())]\n",
    "ponint_2 = [int(input()), int(input())]\n",
    "print(\"YES\" if ponint_1[0] * ponint_2[0] > 0 and ponint_1[1] * ponint_2[1] > 0 else \"NO\")"
   ]
  },
  {
   "cell_type": "markdown",
   "metadata": {},
   "source": [
    "## Задание №12"
   ]
  },
  {
   "cell_type": "code",
   "execution_count": 14,
   "metadata": {},
   "outputs": [
    {
     "name": "stdout",
     "output_type": "stream",
     "text": [
      "2\n",
      "2\n",
      "1\n",
      "1\n",
      "NO\n"
     ]
    }
   ],
   "source": [
    "start = [int(input()), int(input())]\n",
    "end = [int(input()), int(input())]\n",
    "if start[0] < end[0] and end[1] >= start[1] and (start[0] + end[0]) % 2 == (start[1] + end[1]) % 2:\n",
    "    print(\"YES\")\n",
    "else:\n",
    "    print(\"NO\")"
   ]
  },
  {
   "cell_type": "markdown",
   "metadata": {},
   "source": [
    "## Задание №13"
   ]
  },
  {
   "cell_type": "code",
   "execution_count": 15,
   "metadata": {},
   "outputs": [
    {
     "name": "stdout",
     "output_type": "stream",
     "text": [
      "3\n",
      "4\n",
      "5\n",
      "rectangular\n"
     ]
    }
   ],
   "source": [
    "a = int(input())\n",
    "b = int(input())\n",
    "c = int(input())\n",
    "if a > b + c or b > a + c or c > a + b:\n",
    "    print(\"impossible\")\n",
    "elif a ** 2 == b ** 2 + c ** 2 or b ** 2 == a ** 2 + c ** 2 or c ** 2 == b ** 2 + a ** 2:\n",
    "    print(\"rectangular\")\n",
    "elif a ** 2 < b ** 2 + c ** 2 and b ** 2 < a ** 2 + c ** 2 and c ** 2 < b ** 2 + a ** 2:\n",
    "    print(\"acute\")\n",
    "else:\n",
    "    print(\"obtuse\")"
   ]
  },
  {
   "cell_type": "markdown",
   "metadata": {},
   "source": [
    "## Задание №14"
   ]
  },
  {
   "cell_type": "code",
   "execution_count": 16,
   "metadata": {},
   "outputs": [
    {
     "name": "stdout",
     "output_type": "stream",
     "text": [
      "3\n",
      "4\n",
      "5\n",
      "YES\n"
     ]
    }
   ],
   "source": [
    "a = int(input())\n",
    "b = int(input())\n",
    "c = int(input())\n",
    "print(\"YES\" if a % 2 == 0 or b % 2 == 0 or c % 2 == 0 else \"NO\")"
   ]
  },
  {
   "cell_type": "markdown",
   "metadata": {},
   "source": [
    "## Задание №15"
   ]
  },
  {
   "cell_type": "code",
   "execution_count": 17,
   "metadata": {},
   "outputs": [
    {
     "name": "stdout",
     "output_type": "stream",
     "text": [
      "1\n",
      "2\n",
      "1\n",
      "1 1 2\n"
     ]
    }
   ],
   "source": [
    "a, b, c = int(input()), int(input()), int(input())\n",
    "if b < a:\n",
    "    (a, b) = (b, a)\n",
    "if c < a:\n",
    "    (a, c) = (c, a)\n",
    "if c < b:\n",
    "    (c, b) = (b, c)\n",
    "print(a, b, c)"
   ]
  },
  {
   "cell_type": "markdown",
   "metadata": {},
   "source": [
    "## Задание №16"
   ]
  },
  {
   "cell_type": "code",
   "execution_count": 18,
   "metadata": {},
   "outputs": [
    {
     "name": "stdout",
     "output_type": "stream",
     "text": [
      "1\n",
      "2\n",
      "3\n",
      "0\n"
     ]
    }
   ],
   "source": [
    "a, b, c = int(input()), int(input()), int(input())\n",
    "if a == b == c:\n",
    "    print(3)\n",
    "elif a == b or a == c or b == c:\n",
    "    print(2)\n",
    "else:\n",
    "    print(0)"
   ]
  },
  {
   "cell_type": "markdown",
   "metadata": {},
   "source": [
    "## Задание №17"
   ]
  },
  {
   "cell_type": "code",
   "execution_count": 19,
   "metadata": {},
   "outputs": [
    {
     "name": "stdout",
     "output_type": "stream",
     "text": [
      "1\n",
      "1\n",
      "1\n",
      "1\n",
      "1\n",
      "YES\n"
     ]
    }
   ],
   "source": [
    "a, b, c, d, e = int(input()), int(input()), int(input()), int(input()), int(input())\n",
    "v = d * e\n",
    "if a * b == v or b * c == v or a * c == v:\n",
    "    print(\"YES\")\n",
    "else:\n",
    "    print(\"NO\")"
   ]
  },
  {
   "cell_type": "markdown",
   "metadata": {},
   "source": [
    "## Задание №18"
   ]
  },
  {
   "cell_type": "code",
   "execution_count": 20,
   "metadata": {},
   "outputs": [
    {
     "name": "stdout",
     "output_type": "stream",
     "text": [
      "1\n",
      "2\n",
      "3\n",
      "3\n",
      "2\n",
      "1\n",
      "Boxes are equal\n"
     ]
    }
   ],
   "source": [
    "a1, b1, c1, a2, b2, c2 = int(input()), int(input()), int(input()), int(input()), int(input()), int(input())\n",
    "if a1 * b1 == a2 * b2 or b1 * c1 == b2 * c2 or c1 * a1 == c2 * a2:\n",
    "    print(\"Boxes are equal\")\n",
    "elif a1 * b1 < a2 * b2 or b1 * c1 < b2 * c2 or c1 * a1 < c2 * a2:\n",
    "    print(\"The first box is smaller than the second one\")\n",
    "elif a1 * b1 > a2 * b2 or b1 * c1 > b2 * c2 or c1 * a1 > c2 * a2:\n",
    "    print(\"The first box is larger than the second one\")\n",
    "else:\n",
    "    print(\"Boxes are incomparable\")"
   ]
  },
  {
   "cell_type": "markdown",
   "metadata": {},
   "source": [
    "## Задание №19"
   ]
  },
  {
   "cell_type": "code",
   "execution_count": 21,
   "metadata": {},
   "outputs": [
    {
     "name": "stdout",
     "output_type": "stream",
     "text": [
      "100\n",
      "200\n",
      "300\n",
      "1\n",
      "2\n",
      "3\n",
      "1000000\n"
     ]
    }
   ],
   "source": [
    "a1, b1, c1, a2, b2, c2 = int(input()), int(input()), int(input()), int(input()), int(input()), int(input())\n",
    "s1 = a1 // a2\n",
    "s2 = b1 // b2\n",
    "s3 = c1 // c2\n",
    "if a1 < a2 or b1 < b2 or c1 < c2:\n",
    "    print(0)\n",
    "else:\n",
    "    print(s1 * s2 * s3)"
   ]
  },
  {
   "cell_type": "markdown",
   "metadata": {},
   "source": [
    "## Задание №20"
   ]
  },
  {
   "cell_type": "code",
   "execution_count": 22,
   "metadata": {},
   "outputs": [
    {
     "name": "stdout",
     "output_type": "stream",
     "text": [
      "2\n",
      "NO\n"
     ]
    }
   ],
   "source": [
    "k = int(input())\n",
    "print(\"YES\" if k % 3 == 0 or k % 5 == 0 else \"NO\")"
   ]
  },
  {
   "cell_type": "markdown",
   "metadata": {},
   "source": [
    "## Задание №21"
   ]
  },
  {
   "cell_type": "code",
   "execution_count": 23,
   "metadata": {},
   "outputs": [
    {
     "name": "stdout",
     "output_type": "stream",
     "text": [
      "1\n",
      "1\n",
      "2\n",
      "2\n",
      "NO\n"
     ]
    }
   ],
   "source": [
    "a, b, c, d= int(input()), int(input()), int(input()), int(input())\n",
    "if a == 0 and b == 0:\n",
    "    print(\"INF\")\n",
    "elif a == 0 or b * c == a * d:\n",
    "    print(\"NO\")\n",
    "elif b % a == 0:\n",
    "    x = -b // a\n",
    "    print(x)\n",
    "else:\n",
    "    print('NO')"
   ]
  },
  {
   "cell_type": "markdown",
   "metadata": {},
   "source": [
    "## Задание №22"
   ]
  },
  {
   "cell_type": "code",
   "execution_count": 24,
   "metadata": {},
   "outputs": [
    {
     "name": "stdout",
     "output_type": "stream",
     "text": [
      "1\n",
      "5\n",
      "1\n",
      "10.0\n"
     ]
    }
   ],
   "source": [
    "k, m, n = int(input()), int(input()), int(input())\n",
    "print((n / k) * m * 2)"
   ]
  },
  {
   "cell_type": "markdown",
   "metadata": {},
   "source": [
    "## Задание №23"
   ]
  },
  {
   "cell_type": "code",
   "execution_count": 26,
   "metadata": {},
   "outputs": [
    {
     "name": "stdout",
     "output_type": "stream",
     "text": [
      "0\n",
      "2\n",
      "4\n",
      "5\n",
      "3\n",
      "6\n",
      "1\n"
     ]
    }
   ],
   "source": [
    "l1, r1, l2, r2, l3, r3 = int(input()), int(input()), int(input()), int(input()), int(input()), int(input())\n",
    "if ((l2 - r1) < 1) and ((l3-r2) > 1) and (l1 < l2) and (l2 < r3):\n",
    "    print(3)\n",
    "elif ((l2-r1) > 1) and ((l3-r2) > 1) and (l2-r1) <= (r3-l3):\n",
    "    print(3)\n",
    "elif ((l2-r1) > 1) and ((l3-r2) <= 1):\n",
    "    print(1)\n",
    "elif ((l2-r1) <= 1) and (((l3-r2) <= 1) or ((l3-r1) <= 1)):\n",
    "    print(0)\n",
    "else:\n",
    "    print(-1)\n",
    "    "
   ]
  },
  {
   "cell_type": "markdown",
   "metadata": {},
   "source": [
    "## Задание №24"
   ]
  },
  {
   "cell_type": "code",
   "execution_count": 2,
   "metadata": {},
   "outputs": [
    {
     "name": "stdout",
     "output_type": "stream",
     "text": [
      "2\n",
      "2\n",
      "3\n",
      "3\n",
      "3\n",
      "3\n",
      "3\n",
      "5\n",
      "3\n",
      "YES\n"
     ]
    }
   ],
   "source": [
    "l1, w1, h1 = int(input()), int(input()), int(input())\n",
    "l2, w2, h2 = int(input()), int(input()), int(input())\n",
    "lc, wc, hc = int(input()), int(input()), int(input())\n",
    "sc = wc * lc\n",
    "s1 = w1 * l1\n",
    "s2 = w2 * l2\n",
    "if s1 <= sc and s2 <= sc and h1 + h2 <= hc:\n",
    "    print(\"YES\")\n",
    "elif w1 + w2 <= wc and l1 <= lc and l2 <= lc and h1 <= hc and h2 <= hc:\n",
    "    print(\"YES\")\n",
    "else:\n",
    "    print(\"NO\")"
   ]
  },
  {
   "cell_type": "code",
   "execution_count": null,
   "metadata": {},
   "outputs": [],
   "source": []
  }
 ],
 "metadata": {
  "kernelspec": {
   "display_name": "Python 3",
   "language": "python",
   "name": "python3"
  },
  "language_info": {
   "codemirror_mode": {
    "name": "ipython",
    "version": 3
   },
   "file_extension": ".py",
   "mimetype": "text/x-python",
   "name": "python",
   "nbconvert_exporter": "python",
   "pygments_lexer": "ipython3",
   "version": "3.7.6"
  }
 },
 "nbformat": 4,
 "nbformat_minor": 4
}
