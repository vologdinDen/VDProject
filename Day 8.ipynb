{
 "cells": [
  {
   "cell_type": "markdown",
   "metadata": {},
   "source": [
    "# Задание №1"
   ]
  },
  {
   "cell_type": "code",
   "execution_count": 1,
   "metadata": {},
   "outputs": [
    {
     "name": "stdout",
     "output_type": "stream",
     "text": [
      "3\n",
      "14\n"
     ]
    }
   ],
   "source": [
    "sum_ = 0\n",
    "for i in range(1, int(input()) + 1):\n",
    "    sum_ += i ** 2\n",
    "print(sum_)"
   ]
  },
  {
   "cell_type": "markdown",
   "metadata": {},
   "source": [
    "# Задание №2"
   ]
  },
  {
   "cell_type": "code",
   "execution_count": 2,
   "metadata": {},
   "outputs": [
    {
     "name": "stdout",
     "output_type": "stream",
     "text": [
      "3\n",
      "+___ +___ +___ \n",
      "|1 / |2 / |3 / \n",
      "|__\\ |__\\ |__\\ \n",
      "|    |    |    \n"
     ]
    }
   ],
   "source": [
    "n = int(input())\n",
    " \n",
    "for i in range(n):\n",
    "    print(\"+___\", end=\" \")\n",
    "print()\n",
    "for i in range(n):\n",
    "    print(\"|%s /\" % (i + 1), end=\" \")\n",
    "print()\n",
    "for i in range(n):\n",
    "    print(\"|__\\\\\", end=\" \")\n",
    "print()\n",
    "for i in range(n):\n",
    "    print(\"|   \", end=\" \")\n",
    "print()"
   ]
  },
  {
   "cell_type": "markdown",
   "metadata": {},
   "source": [
    "# Задание №3"
   ]
  },
  {
   "cell_type": "code",
   "execution_count": 3,
   "metadata": {},
   "outputs": [
    {
     "name": "stdout",
     "output_type": "stream",
     "text": [
      "1 2 3 4 5\n",
      "5 4 3 2 1 "
     ]
    }
   ],
   "source": [
    "st = str(input())\n",
    "lst = st.split(\" \")\n",
    "for i in range(len(lst) - 1, -1, -1):\n",
    "    print(lst[i], end = \" \")"
   ]
  },
  {
   "cell_type": "markdown",
   "metadata": {},
   "source": [
    "# задание №4"
   ]
  },
  {
   "cell_type": "code",
   "execution_count": 1,
   "metadata": {},
   "outputs": [
    {
     "name": "stdout",
     "output_type": "stream",
     "text": [
      "7 6 5 4 3 2 1\n",
      "2\n",
      "7 6 4 3 2 1 \n"
     ]
    }
   ],
   "source": [
    "st = str(input())\n",
    "lst = st.split(\" \")\n",
    "k = int(input())\n",
    "for i in range(k, len(lst) - 1):\n",
    "    lst[i] = lst[i + 1]\n",
    "lst[-1] = \"\"\n",
    "print(*lst)"
   ]
  },
  {
   "cell_type": "markdown",
   "metadata": {},
   "source": [
    "# Задание №5"
   ]
  },
  {
   "cell_type": "code",
   "execution_count": 2,
   "metadata": {},
   "outputs": [
    {
     "name": "stdout",
     "output_type": "stream",
     "text": [
      "1 2 3 4 5\n",
      "2 1 4 3 5\n"
     ]
    }
   ],
   "source": [
    "st = str(input())\n",
    "lst = st.split(\" \")\n",
    "for i in range(0,len(lst) - 1, 2):\n",
    "    a = lst[i]\n",
    "    lst[i] = lst[i + 1]\n",
    "    lst[i + 1] = a\n",
    "print(*lst)"
   ]
  },
  {
   "cell_type": "markdown",
   "metadata": {},
   "source": [
    "# Задание №6"
   ]
  },
  {
   "cell_type": "code",
   "execution_count": 3,
   "metadata": {},
   "outputs": [
    {
     "name": "stdout",
     "output_type": "stream",
     "text": [
      "4 0 5 0 3 0 0 5\n",
      "4 5 3 5 0 0 0 0\n"
     ]
    }
   ],
   "source": [
    "st = str(input())\n",
    "lst = st.split(\" \")\n",
    "k = 0\n",
    "for i in range(len(lst)):\n",
    "    if lst[i] != \"0\" and i != k:\n",
    "        lst[k] = lst[i]\n",
    "        lst[i] = 0\n",
    "        k += 1\n",
    "    elif lst[i] != \"0\" and i == k:\n",
    "        k += 1\n",
    "print(*lst)"
   ]
  },
  {
   "cell_type": "markdown",
   "metadata": {},
   "source": [
    "# Задание №7"
   ]
  },
  {
   "cell_type": "code",
   "execution_count": 7,
   "metadata": {},
   "outputs": [
    {
     "name": "stdout",
     "output_type": "stream",
     "text": [
      "5\n",
      "5\n",
      "4\n",
      "3\n",
      "2\n",
      "1\n",
      "[1, 2, 3, 4, 5]\n"
     ]
    }
   ],
   "source": [
    "n = int(input())\n",
    "lst = []\n",
    "for i in range(n):\n",
    "    lst.append(int(input()))\n",
    "lst.sort()\n",
    "print(lst)"
   ]
  },
  {
   "cell_type": "markdown",
   "metadata": {},
   "source": [
    "# Задание №8"
   ]
  },
  {
   "cell_type": "code",
   "execution_count": 8,
   "metadata": {},
   "outputs": [
    {
     "name": "stdout",
     "output_type": "stream",
     "text": [
      "100 2\n",
      "200\n",
      "50\n",
      "1\n"
     ]
    }
   ],
   "source": [
    "st = str(input())\n",
    "lst = st.split(\" \")\n",
    "lst_2 = []\n",
    "sum_, count = 0, 0\n",
    "for i in range(int(lst[-1])):\n",
    "    lst_2.append(int(input()))\n",
    "lst_2.sort()\n",
    "for i in lst_2:\n",
    "    sum_ += i\n",
    "    if sum_ >= int(lst[0]):\n",
    "        break\n",
    "    else:\n",
    "        count += 1\n",
    "print(count)"
   ]
  },
  {
   "cell_type": "markdown",
   "metadata": {},
   "source": [
    "# Задание №9"
   ]
  },
  {
   "cell_type": "code",
   "execution_count": 9,
   "metadata": {},
   "outputs": [
    {
     "name": "stdout",
     "output_type": "stream",
     "text": [
      "5\n",
      "1 50 3 4 3\n",
      "16\n",
      "1 2 3 4 5 1 3 3 4 5 5 5 5 5 4 5\n",
      "YES\n",
      "NO\n",
      "NO\n",
      "NO\n",
      "YES\n"
     ]
    }
   ],
   "source": [
    "n = int(input())\n",
    "st = str(input())\n",
    "lst = st.split(\" \")\n",
    "k = int(input())\n",
    "st = str(input())\n",
    "lst_1 = st.split(\" \")\n",
    "hp = 0\n",
    "for i in range(len(lst)):\n",
    "    for j in range(len(lst_1)):\n",
    "        if lst.index(lst[i]) == int(lst_1[j]) - 1:\n",
    "            hp += 1\n",
    "    lst[i] = int(lst[i]) - hp\n",
    "    hp = 0\n",
    "for i in lst:\n",
    "    print(\"YES\" if int(i) < 0 else \"NO\")\n",
    "        "
   ]
  },
  {
   "cell_type": "markdown",
   "metadata": {},
   "source": [
    "# Задание №10"
   ]
  },
  {
   "cell_type": "code",
   "execution_count": 10,
   "metadata": {},
   "outputs": [
    {
     "name": "stdout",
     "output_type": "stream",
     "text": [
      "7 3 4 2 5\n",
      "2 3 4 5 7\n"
     ]
    }
   ],
   "source": [
    "def CountSort(A):\n",
    "    for i in range(len(A)):\n",
    "        for j in range(len(A) - 1):\n",
    "            if A[j] > A[j + 1]:\n",
    "                a = A[j]\n",
    "                A[j] = A[j + 1]\n",
    "                A[j + 1] = a\n",
    "    return A\n",
    "st = str(input())\n",
    "lst = st.split(\" \")\n",
    "for i in range(len(lst)):\n",
    "    lst[i] = int(lst[i])\n",
    "CountSort(lst)\n",
    "print(*lst)"
   ]
  },
  {
   "cell_type": "markdown",
   "metadata": {},
   "source": [
    "# Задание №11"
   ]
  },
  {
   "cell_type": "code",
   "execution_count": 11,
   "metadata": {},
   "outputs": [
    {
     "name": "stdout",
     "output_type": "stream",
     "text": [
      "3\n",
      "Ivanov 15\n",
      "Petrov 10\n",
      "Sidorov 20\n",
      "20\n",
      "Sidorov\n",
      "Ivanov\n",
      "Petrov\n"
     ]
    }
   ],
   "source": [
    "n = int(input())\n",
    "lst = []\n",
    "for i in range(n):\n",
    "    st = str(input())\n",
    "    lst.append(st.split(\" \"))\n",
    "print(lst[-1][-1])\n",
    "for i in range(len(lst)):\n",
    "    for j in range(len(lst) - 1):\n",
    "        if int(lst[j][-1]) < int(lst[j + 1][-1]):\n",
    "            a = lst[j]\n",
    "            lst[j] = lst[j + 1]\n",
    "            lst[j + 1] = a\n",
    "for i in range(n):\n",
    "    print(lst[i][0])"
   ]
  },
  {
   "cell_type": "markdown",
   "metadata": {},
   "source": [
    "# Задание №12"
   ]
  },
  {
   "cell_type": "code",
   "execution_count": 12,
   "metadata": {},
   "outputs": [
    {
     "name": "stdout",
     "output_type": "stream",
     "text": [
      "10 20 30\n",
      "50 20 30\n",
      "1700\n"
     ]
    }
   ],
   "source": [
    "def CountSortRev(A):\n",
    "    for i in range(len(A)):\n",
    "        for j in range(len(A) - 1):\n",
    "            if A[j] < A[j + 1]:\n",
    "                a = A[j]\n",
    "                A[j] = A[j + 1]\n",
    "                A[j + 1] = a\n",
    "st = str(input())\n",
    "lst = st.split(\" \")\n",
    "st = str(input())\n",
    "lst_1 = st.split(\" \")\n",
    "CountSort(lst)\n",
    "CountSortRev(lst_1)\n",
    "sum_ = 0\n",
    "for i in range(len(lst)):\n",
    "    sum_ = sum_ + (int(lst[i]) * int(lst_1[i]))\n",
    "print(sum_)"
   ]
  },
  {
   "cell_type": "markdown",
   "metadata": {},
   "source": [
    "# Задание №13"
   ]
  },
  {
   "cell_type": "code",
   "execution_count": 14,
   "metadata": {},
   "outputs": [
    {
     "name": "stdout",
     "output_type": "stream",
     "text": [
      "86406361642\n",
      "83341994118\n",
      "86406361642\n",
      "83341994118\n",
      "NO\n",
      "YES\n",
      "NO\n"
     ]
    }
   ],
   "source": [
    "def spis(st):\n",
    "    lst = []\n",
    "    for i in st:\n",
    "        if i.isdigit:\n",
    "            lst.append(i)\n",
    "    return lst\n",
    "st = str(input())\n",
    "if st[0] != \"8\" or st[0] != \"+\":\n",
    "    st = \"495\" + st\n",
    "lst = spis(st)\n",
    "st = str(input())\n",
    "if st[0] != \"8\" or st[0] != \"+\":\n",
    "    st = \"495\" + st\n",
    "lst_1 = spis(st)\n",
    "st = str(input())\n",
    "if st[0] != \"8\" or st[0] != \"+\":\n",
    "    st = \"495\" + st\n",
    "lst_2 = spis(st)\n",
    "st = str(input())\n",
    "if st[0] != \"8\" or st[0] != \"+\":\n",
    "    st = \"495\" + st\n",
    "lst_3 = spis(st)\n",
    "ok_1, ok_2,ok_3 = False, False, False\n",
    "for i in range(1, len(lst)):\n",
    "    if lst[i] == lst_1[i]:\n",
    "        ok_1 = True\n",
    "    else:\n",
    "        ok_1 = False\n",
    "    if lst[i] == lst_2[i]:\n",
    "        ok_2 = True\n",
    "    else:\n",
    "        ok_2 = False\n",
    "    if lst[i] == lst_3[i]:\n",
    "        ok_3 = True\n",
    "    else:\n",
    "        ok_3 = False\n",
    "print(\"YES\" if ok_1 == True else \"NO\")\n",
    "print(\"YES\" if ok_2 == True else \"NO\")\n",
    "print(\"YES\" if ok_3 == True else \"NO\")"
   ]
  },
  {
   "cell_type": "markdown",
   "metadata": {},
   "source": [
    "# Задание №14"
   ]
  },
  {
   "cell_type": "code",
   "execution_count": 15,
   "metadata": {},
   "outputs": [
    {
     "name": "stdout",
     "output_type": "stream",
     "text": [
      "2\n",
      "Russia Moscow Petersburg Novgorod Kaluga\n",
      "Ukraine Kiev Donetsk Odessa\n",
      "3\n",
      "Odessa\n",
      "Moscow\n",
      "Novgorod\n",
      "Ukraine\n",
      "Russia\n",
      "Russia\n"
     ]
    }
   ],
   "source": [
    "n = int(input())\n",
    "lst = []\n",
    "for i in range(n):\n",
    "    st = str(input())\n",
    "    lst.append(st.split(\" \"))\n",
    "k = int(input())\n",
    "lst_2 = []\n",
    "for i in range(k):\n",
    "    st = str(input())\n",
    "    lst_2.append(st)\n",
    "for i in lst_2:\n",
    "    for c in range(len(lst)):\n",
    "        for j in range(len(lst[c])):\n",
    "            if i == lst[c][j]:\n",
    "                print(lst[c][0])\n"
   ]
  },
  {
   "cell_type": "markdown",
   "metadata": {},
   "source": [
    "# Задание №15"
   ]
  },
  {
   "cell_type": "code",
   "execution_count": 16,
   "metadata": {},
   "outputs": [
    {
     "name": "stdout",
     "output_type": "stream",
     "text": [
      "apple orange banana banana orange\n",
      "apple\n"
     ]
    }
   ],
   "source": [
    "st = str(input())\n",
    "lst = st.split(\" \")\n",
    "counter = []\n",
    "for i in range(len(lst)):\n",
    "    counter.append(0)\n",
    "for i in lst:\n",
    "    for j in lst:\n",
    "        if i == j:\n",
    "            counter[lst.index(i)] = counter[lst.index(i)] + 1\n",
    "maxx = 0\n",
    "llst = lst[0]\n",
    "for i in range(len(lst)):\n",
    "    if maxx < counter[i] and str(lst[i]) < str(llst):\n",
    "        llst = lst[i]\n",
    "        maxx = counter[i]\n",
    "print(llst)"
   ]
  },
  {
   "cell_type": "markdown",
   "metadata": {},
   "source": [
    "# Задание №16"
   ]
  },
  {
   "cell_type": "code",
   "execution_count": 17,
   "metadata": {},
   "outputs": [
    {
     "name": "stdout",
     "output_type": "stream",
     "text": [
      "hi hi what is your name my name is bond james bond my name is damme van damme claude van damme jean claude van damme\n",
      "['damme', 'is', 'name', 'van', 'bond', 'claude', 'hi', 'my', 'james', 'jean', 'what', 'your']\n"
     ]
    }
   ],
   "source": [
    "s = str(input())\n",
    "lst = [word for line in s.split('\\n') for word in line.split()]\n",
    "print(sorted(set(lst), key=lambda x: (-lst.count(x), x)))"
   ]
  },
  {
   "cell_type": "markdown",
   "metadata": {},
   "source": [
    "# Задание №17"
   ]
  },
  {
   "cell_type": "code",
   "execution_count": null,
   "metadata": {},
   "outputs": [
    {
     "name": "stdout",
     "output_type": "stream",
     "text": [
      "DEPOSIT Ivanov 100\n",
      "INCOME 5\n",
      "BALANCE Ivanov\n",
      "105\n",
      "TRANSFER Ivanov Petrov 50\n",
      "WITHDRAW Petrov 100\n",
      "BALANCE Petrov\n",
      "-50\n",
      "BALANCE Sidorov\n",
      "ERROR\n"
     ]
    }
   ],
   "source": [
    "def deposit(arg):\n",
    "    name, money = arg\n",
    "    bank[name] = bank.setdefault(name, 0) + int(money)\n",
    "def withdraw(arg):\n",
    "    name, money = arg\n",
    "    bank[name] = bank.setdefault(name, 0) - int(money)\n",
    "def balance(arg):\n",
    "    name = arg[0]\n",
    "    if name in bank:\n",
    "        print(bank[name])\n",
    "    else:\n",
    "        print('ERROR')\n",
    "def transfer(arg):\n",
    "    name_1, name_2, money = arg\n",
    "    for name in (name_1, name_2):\n",
    "        if name not in bank:\n",
    "            deposit((name,0))        \n",
    "    withdraw((name_1, money))\n",
    "    deposit((name_2, money))\n",
    "def income(arg):\n",
    "    percent = int(arg[0])\n",
    "    for name, balanse in bank.items():\n",
    "        if balanse > 0:\n",
    "            bank[name] = bank.get(name) + balanse * percent//100\n",
    "bank = {}\n",
    "bank_fun = {\n",
    "                        'DEPOSIT' : deposit, 'WITHDRAW' : withdraw,\n",
    "                        'BALANCE' : balance, 'TRANSFER' : transfer,\n",
    "                        'INCOME' : income\n",
    "                    }\n",
    "while 1:\n",
    "    data = input().split()\n",
    "    fun_name = data[0]\n",
    "    arg = data[1:]\n",
    "    bank_fun[fun_name](arg)\n"
   ]
  },
  {
   "cell_type": "markdown",
   "metadata": {},
   "source": [
    "# Задание №18"
   ]
  },
  {
   "cell_type": "code",
   "execution_count": 1,
   "metadata": {},
   "outputs": [
    {
     "name": "stdout",
     "output_type": "stream",
     "text": [
      "9\n",
      "Alexei Peter_I\n",
      "Anna Peter_I\n",
      "Elizabeth Peter_I\n",
      "Peter_II Alexei\n",
      "Peter_III Anna\n",
      "Paul_I Peter_III\n",
      "Alexander_I Paul_I\n",
      "Nicholaus_I Paul_I\n",
      "Alexander_I 4\n",
      "Alexei 1\n",
      "Anna 1\n",
      "Elizabeth 1\n",
      "Nicholaus_I 4\n",
      "Paul_I 3\n",
      "Peter_I 0\n",
      "Peter_II 2\n",
      "Peter_III 2\n"
     ]
    }
   ],
   "source": [
    "def height(man):\n",
    "    if man not in p_tree:\n",
    "        return 0\n",
    "    else:\n",
    "        return 1 + height(p_tree[man])\n",
    "p_tree = {}\n",
    "n = int(input())\n",
    "for i in range(n - 1):\n",
    "    child, parent = input().split()\n",
    "    p_tree[child] = parent\n",
    "heights = {}\n",
    "for man in set(p_tree.keys()).union(set(p_tree.values())):\n",
    "    heights[man] = height(man)\n",
    "for key, value in sorted(heights.items()):\n",
    "    print(key, value)"
   ]
  },
  {
   "cell_type": "markdown",
   "metadata": {},
   "source": [
    "# Задание №19"
   ]
  },
  {
   "cell_type": "code",
   "execution_count": 3,
   "metadata": {},
   "outputs": [
    {
     "name": "stdout",
     "output_type": "stream",
     "text": [
      "1 2 3 3 2 1\n",
      "3\n"
     ]
    }
   ],
   "source": [
    "print(len(set(input().split())))"
   ]
  },
  {
   "cell_type": "markdown",
   "metadata": {},
   "source": [
    "# Задание №20"
   ]
  },
  {
   "cell_type": "code",
   "execution_count": 4,
   "metadata": {},
   "outputs": [
    {
     "name": "stdout",
     "output_type": "stream",
     "text": [
      "She sells sea shells on the sea shore; The shells that she sells are sea shells I'm sure. So if she sells sea shells on the sea shore, I'm sure that the shells are sea shore shells.\n",
      "19\n"
     ]
    }
   ],
   "source": [
    "iin_file = input()\n",
    "a = []\n",
    "for i in iin_file.split('\\n'):\n",
    "    a += i.split()\n",
    "print(len(set(a)))"
   ]
  },
  {
   "cell_type": "markdown",
   "metadata": {},
   "source": [
    "# Задание №21"
   ]
  },
  {
   "cell_type": "code",
   "execution_count": 10,
   "metadata": {},
   "outputs": [
    {
     "name": "stdout",
     "output_type": "stream",
     "text": [
      "0 0 1 1\n",
      "0 1 0 1\n",
      "0 1 1 0\n"
     ]
    }
   ],
   "source": [
    "a = input()\n",
    "b = input()\n",
    "c = []\n",
    "for i in range(len(a)):\n",
    "    if (a[i] != \"1\" and b[i] == \"1\") or (a[i] == \"1\" and b[i] != \"1\"):\n",
    "        c.append(1)\n",
    "    elif a[i] == \" \":\n",
    "        continue\n",
    "    else:\n",
    "        c.append(0)\n",
    "print(*c)"
   ]
  },
  {
   "cell_type": "markdown",
   "metadata": {},
   "source": [
    "# Задание №22"
   ]
  },
  {
   "cell_type": "code",
   "execution_count": 12,
   "metadata": {},
   "outputs": [
    {
     "name": "stdout",
     "output_type": "stream",
     "text": [
      "4\n",
      "1 1 2 6 24\n"
     ]
    }
   ],
   "source": [
    "from math import factorial as fact\n",
    "n = int(input())\n",
    "lst = []\n",
    "for i in range(n + 1):\n",
    "    lst.append(fact(i))\n",
    "print(*lst)"
   ]
  },
  {
   "cell_type": "markdown",
   "metadata": {},
   "source": [
    "# Задание №23"
   ]
  },
  {
   "cell_type": "code",
   "execution_count": 22,
   "metadata": {},
   "outputs": [
    {
     "name": "stdout",
     "output_type": "stream",
     "text": [
      "8\n",
      "[2, 3, 5, 7]\n"
     ]
    }
   ],
   "source": [
    "n = int(input())\n",
    "lst = []\n",
    "for i in range(2, n + 1):\n",
    "    yes = True\n",
    "    for j in range(2, i):\n",
    "        if i %  j == 0:\n",
    "            yes = False\n",
    "            break\n",
    "    if yes:        \n",
    "        lst.append(i)\n",
    "print(lst)"
   ]
  },
  {
   "cell_type": "markdown",
   "metadata": {},
   "source": [
    "# Задание №24"
   ]
  },
  {
   "cell_type": "code",
   "execution_count": 23,
   "metadata": {},
   "outputs": [
    {
     "name": "stdout",
     "output_type": "stream",
     "text": [
      "3 2\n",
      "2 1 2 3\n",
      "1 2 3 2\n",
      "3 2 1\n"
     ]
    }
   ],
   "source": [
    "import itertools\n",
    "import functools\n",
    "print(*(tuple([[[0]]]) + tuple(*map(lambda data: filter(lambda x: tuple(x[0]) == x[1],\n",
    "        map(lambda var: (filter(lambda sta: ((var.index(sta[0]) >= var.index(sta[1])) ^ (var.index(sta[2]) >= var.index(sta[3]))), data[1]), data[1], var + data[2]), data[0])), map(lambda x: (itertools.permutations(set(functools.reduce(lambda x,y: x + y ,x[1]))), x[1], tuple(set(range(1, x[0] + 1)) - set(functools.reduce(lambda x,y: x + y ,x[1])))), map(lambda vvod: (next(vvod), tuple(set(map(lambda y: tuple(y), map(lambda x: map(int, input().split()), range(next(vvod))))))), [map(int, input().split())])))))[-1][-1])"
   ]
  },
  {
   "cell_type": "code",
   "execution_count": null,
   "metadata": {},
   "outputs": [],
   "source": []
  }
 ],
 "metadata": {
  "kernelspec": {
   "display_name": "Python 3",
   "language": "python",
   "name": "python3"
  },
  "language_info": {
   "codemirror_mode": {
    "name": "ipython",
    "version": 3
   },
   "file_extension": ".py",
   "mimetype": "text/x-python",
   "name": "python",
   "nbconvert_exporter": "python",
   "pygments_lexer": "ipython3",
   "version": "3.7.6"
  }
 },
 "nbformat": 4,
 "nbformat_minor": 4
}
